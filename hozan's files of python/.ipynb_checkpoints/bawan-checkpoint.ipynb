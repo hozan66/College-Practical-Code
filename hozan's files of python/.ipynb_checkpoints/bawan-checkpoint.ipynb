{
 "cells": [
  {
   "cell_type": "code",
   "execution_count": 1,
   "metadata": {},
   "outputs": [],
   "source": [
    "from tkinter import*\n",
    "root=Tk()\n",
    "root.geometry(\"300x300\")\n",
    "root.minsize(100,200)\n",
    "Label(root,bg=\"brown\").pack(side=TOP,fill=X,ipady=12)\n",
    "Label(root,bg=\"orange\").pack(side=BOTTOM,fill=X,ipady=12)\n",
    "Label(root,bg=\"pink\").pack(side=LEFT,fill=Y,ipadx=8)\n",
    "Label(root,bg=\"yellow\").pack(side=RIGHT,fill=Y,ipadx=8)\n",
    "Label(root,bg=\"grey\").pack(side=TOP,fill=X,ipady=8)\n",
    "Label(root,bg=\"green\").pack(side=RIGHT,fill=Y,ipadx=8)\n",
    "Label(root,bg=\"blue\").pack(side=BOTTOM,fill=X,ipady=8)\n",
    "Label(root,bg=\"black\").pack(side=LEFT,fill=Y,ipadx=8)\n",
    "Label(root,text=\"Hi\",bg=\"white\",justify=CENTER).pack(fill=BOTH,ipady=1000)\n",
    "root.mainloop()"
   ]
  },
  {
   "cell_type": "code",
   "execution_count": 30,
   "metadata": {},
   "outputs": [],
   "source": [
    "i=1\n",
    "\n",
    "def add():\n",
    "    \n",
    "    if(varname.get()!=\"\"):\n",
    "        global i\n",
    "        recordsL.insert(i,str(i)+\"-\"+varname.get()+\"     \"+vargender.get())\n",
    "       \n",
    "        i=i+1\n",
    "        \n",
    "        \n",
    "        varname.set(\"\")\n",
    "        \n",
    "        \n",
    "        \n",
    "\n",
    "from tkinter import*\n",
    "r=Tk()\n",
    "r.geometry(\"200x300\")\n",
    "name=Label(r,text=\"Name\").grid(row=1,column=1)\n",
    "varname=StringVar()\n",
    "nameE=Entry(r,textvariable=varname).grid(row=1,column=2)\n",
    "\n",
    "gender=Label(r,text=\"Gender\").grid(row=2,column=1)\n",
    "vargender=StringVar()\n",
    "genderMaleRd=Radiobutton(r,text=\"Male\",variable=vargender,value=\"Male\").grid(row=2,column=2,sticky=W)\n",
    "genderFemaleRd=Radiobutton(r,text=\"Female\",variable=vargender,value=\"Female\").grid(row=2,column=2,sticky=E)\n",
    "\n",
    "\n",
    "varRecordsS=StringVar()\n",
    "records=Label(r,text=\"Records:\").grid(row=3,column=1,sticky=N)\n",
    "recordsL=Listbox(r,bg=\"white\",width=\"20\",height=\"10\")\n",
    "\n",
    "recordsL.grid(row=3,column=2)\n",
    "\n",
    "close=Button(r,text=\"Close\",command=lambda:r.destroy()).grid(row=4,column=2,sticky=W)\n",
    "Add=Button(r,text=\"Add\",command=add).grid(row=4,column=2)\n",
    "r.mainloop()"
   ]
  },
  {
   "cell_type": "code",
   "execution_count": null,
   "metadata": {},
   "outputs": [],
   "source": []
  },
  {
   "cell_type": "code",
   "execution_count": null,
   "metadata": {},
   "outputs": [],
   "source": []
  }
 ],
 "metadata": {
  "kernelspec": {
   "display_name": "Python 3",
   "language": "python",
   "name": "python3"
  },
  "language_info": {
   "codemirror_mode": {
    "name": "ipython",
    "version": 3
   },
   "file_extension": ".py",
   "mimetype": "text/x-python",
   "name": "python",
   "nbconvert_exporter": "python",
   "pygments_lexer": "ipython3",
   "version": "3.8.5"
  }
 },
 "nbformat": 4,
 "nbformat_minor": 4
}
