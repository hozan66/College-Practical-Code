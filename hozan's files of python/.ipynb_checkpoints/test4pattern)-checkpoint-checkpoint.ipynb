{
 "cells": [
  {
   "cell_type": "code",
   "execution_count": 4,
   "metadata": {},
   "outputs": [
    {
     "name": "stdout",
     "output_type": "stream",
     "text": [
      "Enter The Number of Stars: 4\n",
      "****\n",
      "****\n",
      "****\n",
      "****\n"
     ]
    }
   ],
   "source": [
    "x=int(input(\"Enter The Number of Stars: \"))\n",
    "for i in range(x):\n",
    "    for j in range(x):\n",
    "        print(\"*\",end=\"\")\n",
    "    print(\"\")"
   ]
  },
  {
   "cell_type": "code",
   "execution_count": 6,
   "metadata": {},
   "outputs": [
    {
     "name": "stdout",
     "output_type": "stream",
     "text": [
      "Enter The Number of Stars: 4\n",
      "$$$$\n",
      "$$$$\n",
      "$$$$\n",
      "$$$$\n"
     ]
    }
   ],
   "source": [
    "x=int(input(\"Enter The Number of Stars: \"))\n",
    "for i in range(1,x+1):\n",
    "    print(\"$\"*x)"
   ]
  },
  {
   "cell_type": "code",
   "execution_count": 11,
   "metadata": {},
   "outputs": [
    {
     "name": "stdout",
     "output_type": "stream",
     "text": [
      "Enter The Number of Stars: 5\n",
      "*\n",
      "**\n",
      "***\n",
      "****\n",
      "*****\n"
     ]
    }
   ],
   "source": [
    "x=int(input(\"Enter The Number of Stars: \"))\n",
    "for i in range(x):           #range(0) it won't calculate this one\n",
    "    for j in range(i+1):     #range(i+1) cuz we start from 0\n",
    "        print(\"*\",end=\"\")\n",
    "    print(\"\")"
   ]
  },
  {
   "cell_type": "code",
   "execution_count": 3,
   "metadata": {},
   "outputs": [
    {
     "name": "stdout",
     "output_type": "stream",
     "text": [
      "Enter The Number of Stars: 5\n",
      "$\n",
      "$$\n",
      "$$$\n",
      "$$$$\n",
      "$$$$$\n"
     ]
    }
   ],
   "source": [
    "x=int(input(\"Enter The Number of Stars: \"))\n",
    "for i in range(1,x+1):           \n",
    "    print(\"$\"*i)"
   ]
  },
  {
   "cell_type": "code",
   "execution_count": 10,
   "metadata": {},
   "outputs": [
    {
     "name": "stdout",
     "output_type": "stream",
     "text": [
      "Enter The Number of Stars: 5\n",
      "*****\n",
      "****\n",
      "***\n",
      "**\n",
      "*\n"
     ]
    }
   ],
   "source": [
    "x=int(input(\"Enter The Number of Stars: \"))\n",
    "for i in range(x,0,-1):           \n",
    "    for j in range(i):\n",
    "        print(\"*\",end=\"\")\n",
    "    print(\"\")"
   ]
  },
  {
   "cell_type": "code",
   "execution_count": 7,
   "metadata": {},
   "outputs": [
    {
     "name": "stdout",
     "output_type": "stream",
     "text": [
      "Enter The Number of Stars: 5\n",
      "$$$$$\n",
      "$$$$\n",
      "$$$\n",
      "$$\n",
      "$\n"
     ]
    }
   ],
   "source": [
    "x=int(input(\"Enter The Number of Stars: \"))\n",
    "for i in range(x,0,-1):\n",
    "    print(\"$\"*i)"
   ]
  },
  {
   "cell_type": "code",
   "execution_count": 31,
   "metadata": {},
   "outputs": [
    {
     "name": "stdout",
     "output_type": "stream",
     "text": [
      "Enter The Number of Stars: 5\n",
      "    *\n",
      "   **\n",
      "  ***\n",
      " ****\n",
      "*****\n"
     ]
    }
   ],
   "source": [
    "x=int(input(\"Enter The Number of Stars: \"))\n",
    "for i in range(x):           \n",
    "    for j in range(x-1,i,-1):\n",
    "        print(\" \",end=\"\")\n",
    "    for k in range(i+1):\n",
    "        print(\"*\",end=\"\")\n",
    "    print(\"\")"
   ]
  },
  {
   "cell_type": "code",
   "execution_count": 9,
   "metadata": {},
   "outputs": [
    {
     "name": "stdout",
     "output_type": "stream",
     "text": [
      "Enter The Number of Stars: 5\n",
      "    $\n",
      "   $$\n",
      "  $$$\n",
      " $$$$\n",
      "$$$$$\n"
     ]
    }
   ],
   "source": [
    "x=int(input(\"Enter The Number of Stars: \"))\n",
    "for i in range(1,x+1):           \n",
    "    print(\" \"*(x-i),\"$\"*i,sep=\"\")"
   ]
  },
  {
   "cell_type": "code",
   "execution_count": 34,
   "metadata": {},
   "outputs": [
    {
     "name": "stdout",
     "output_type": "stream",
     "text": [
      "Enter The Number of Stars: 5\n",
      "*****\n",
      " ****\n",
      "  ***\n",
      "   **\n",
      "    *\n"
     ]
    }
   ],
   "source": [
    "x=int(input(\"Enter The Number of Stars: \"))\n",
    "for i in range(x):           \n",
    "    for j in range(i):\n",
    "        print(\" \",end=\"\")\n",
    "    for k in range(x-i,0,-1):\n",
    "        print(\"*\",end=\"\")\n",
    "    print(\"\")"
   ]
  },
  {
   "cell_type": "code",
   "execution_count": 11,
   "metadata": {},
   "outputs": [
    {
     "name": "stdout",
     "output_type": "stream",
     "text": [
      "Enter The Number of Stars: 5\n",
      "$$$$$\n",
      " $$$$\n",
      "  $$$\n",
      "   $$\n",
      "    $\n"
     ]
    }
   ],
   "source": [
    "x=int(input(\"Enter The Number of Stars: \"))\n",
    "for i in range(x,0,-1):           \n",
    "    print(\" \"*(x-i),\"$\"*i,sep=\"\")"
   ]
  },
  {
   "cell_type": "code",
   "execution_count": 1,
   "metadata": {},
   "outputs": [
    {
     "name": "stdout",
     "output_type": "stream",
     "text": [
      "Enter The Number of height: 4\n",
      "   *\n",
      "  ***\n",
      " *****\n",
      "*******\n"
     ]
    }
   ],
   "source": [
    "h=int(input(\"Enter The Number of height: \"))\n",
    "inc=1\n",
    "for i in range(h,0,-1):           \n",
    "    for j in range(i,1,-1):\n",
    "        print(\" \",end=\"\")\n",
    "    print(\"*\"*inc)\n",
    "    inc+=2"
   ]
  },
  {
   "cell_type": "code",
   "execution_count": 14,
   "metadata": {},
   "outputs": [
    {
     "name": "stdout",
     "output_type": "stream",
     "text": [
      "Enter The Number of height: 8\n",
      "    $\n",
      "   $$$\n",
      "  $$$$$\n",
      " $$$$$$$\n"
     ]
    }
   ],
   "source": [
    "h=int(input(\"Enter The Number of height: \"))\n",
    "s=int(h/2)\n",
    "for i in range(1,h+1,2):           \n",
    "    print(\" \"*s,\"$\"*i,sep=\"\")\n",
    "    s-=1"
   ]
  },
  {
   "cell_type": "code",
   "execution_count": 5,
   "metadata": {},
   "outputs": [
    {
     "name": "stdout",
     "output_type": "stream",
     "text": [
      "Enter The Number of height: 4\n",
      "*******\n",
      " *****\n",
      "  ***\n",
      "   *\n"
     ]
    }
   ],
   "source": [
    "h=int(input(\"Enter The Number of height: \"))\n",
    "star=h*2-1\n",
    "for i in range(h,0,-1):           \n",
    "    for j in range(i,h):\n",
    "        print(\" \",end=\"\")\n",
    "    print(\"*\"*star)\n",
    "    star-=2"
   ]
  },
  {
   "cell_type": "code",
   "execution_count": 17,
   "metadata": {},
   "outputs": [
    {
     "name": "stdout",
     "output_type": "stream",
     "text": [
      "Enter The odd Number of stars: 7\n",
      "$$$$$$$\n",
      " $$$$$\n",
      "  $$$\n",
      "   $\n"
     ]
    }
   ],
   "source": [
    "h=int(input(\"Enter The odd Number of stars: \"))\n",
    "s=0\n",
    "for i in range(h,0,-2):           \n",
    "    print(\" \"*s,\"$\"*i,sep=\"\")\n",
    "    s+=1"
   ]
  },
  {
   "cell_type": "code",
   "execution_count": 21,
   "metadata": {},
   "outputs": [
    {
     "name": "stdout",
     "output_type": "stream",
     "text": [
      "Enter The Number of height: 5\n",
      "*\n",
      "**\n",
      "***\n",
      "**\n",
      "*\n"
     ]
    }
   ],
   "source": [
    "h=int(input(\"Enter The Number of height: \")) \n",
    "dec=int((h+1)/2)\n",
    "for i in range(1,h+1):           \n",
    "    if i<= (h+1)/2:\n",
    "        print(\"*\"*i,end=\"\")\n",
    "    else:\n",
    "        dec-=1\n",
    "        print(\"*\"*dec,end=\"\")\n",
    "    print()"
   ]
  },
  {
   "cell_type": "code",
   "execution_count": 20,
   "metadata": {},
   "outputs": [
    {
     "name": "stdout",
     "output_type": "stream",
     "text": [
      "Enter The size: 2\n",
      "  *\n",
      " **\n",
      "***\n",
      " **\n",
      "  *\n"
     ]
    }
   ],
   "source": [
    "s=int(input(\"Enter The size: \")) \n",
    "for i in range(s,-(s+1),-1):           \n",
    "    for j in range(abs(i),0,-1):\n",
    "        print(\" \",end=\"\")\n",
    "    for k in range(abs(i),s+1): \n",
    "        print(\"*\",end=\"\")\n",
    "    print()"
   ]
  },
  {
   "cell_type": "code",
   "execution_count": 48,
   "metadata": {},
   "outputs": [
    {
     "name": "stdout",
     "output_type": "stream",
     "text": [
      "Enter The Number: 6\n",
      "******\n",
      "    * \n",
      "   *  \n",
      "  *   \n",
      " *    \n",
      "******\n"
     ]
    }
   ],
   "source": [
    "n=int(input(\"Enter The Number: \")) \n",
    "for i in range(1,n+1):           \n",
    "    for j in range(1,n+1):\n",
    "        if i+j==n+1 or i==1 or i==n:\n",
    "            print(\"*\",end=\"\") \n",
    "        else:\n",
    "            print(\" \",end=\"\")\n",
    "    print()"
   ]
  },
  {
   "cell_type": "code",
   "execution_count": 51,
   "metadata": {},
   "outputs": [
    {
     "name": "stdout",
     "output_type": "stream",
     "text": [
      "Enter The Number of height: 4\n",
      "O*******O\n",
      " O*****O\n",
      "  O***O\n",
      "   O*O\n",
      "    O\n"
     ]
    }
   ],
   "source": [
    "h=int(input(\"Enter The Number of height: \"))\n",
    "star=h*2-1\n",
    "for i in range(h,-1,-1):\n",
    "    for j in range(i,h):\n",
    "        print(\" \",end=\"\")\n",
    "    if star==-1:\n",
    "        print(\"O\")\n",
    "    else:\n",
    "        print(\"O\",\"*\"*star,\"O\",sep=\"\")\n",
    "    star-=2"
   ]
  },
  {
   "cell_type": "code",
   "execution_count": 27,
   "metadata": {},
   "outputs": [
    {
     "name": "stdout",
     "output_type": "stream",
     "text": [
      "Enter The odd Number of stars: 7\n",
      "O$$$$$$$O\n",
      " O$$$$$O\n",
      "  O$$$O\n",
      "   O$O\n",
      "    O\n"
     ]
    }
   ],
   "source": [
    "h=int(input(\"Enter The odd Number of stars: \"))\n",
    "s=0\n",
    "for i in range(h,0,-2):\n",
    "    print(\" \"*s,\"O\",\"$\"*i,\"O\",sep=\"\")\n",
    "    s+=1\n",
    "    if i==1:\n",
    "        print(\" \"*s,\"O\",sep=\"\")"
   ]
  },
  {
   "cell_type": "code",
   "execution_count": 52,
   "metadata": {},
   "outputs": [
    {
     "name": "stdout",
     "output_type": "stream",
     "text": [
      "Enter The Number of height: 4\n",
      "    O\n",
      "   O*O\n",
      "  O***O\n",
      " O*****O\n",
      "O*******O\n"
     ]
    }
   ],
   "source": [
    "h=int(input(\"Enter The Number of height: \"))\n",
    "inc=-1\n",
    "for i in range(h,-1,-1):           \n",
    "    for j in range(i,0,-1):\n",
    "        print(\" \",end=\"\")\n",
    "    if inc==-1:\n",
    "        print(\"O\")\n",
    "    else:\n",
    "        print(\"O\",\"*\"*inc,\"O\",sep=\"\")\n",
    "    inc+=2"
   ]
  },
  {
   "cell_type": "code",
   "execution_count": 31,
   "metadata": {},
   "outputs": [
    {
     "name": "stdout",
     "output_type": "stream",
     "text": [
      "Enter The odd Number of stars: 9\n",
      "     O\n",
      "    O$O\n",
      "   O$$$O\n",
      "  O$$$$$O\n",
      " O$$$$$$$O\n"
     ]
    }
   ],
   "source": [
    "h=int(input(\"Enter The odd Number of stars: \"))\n",
    "s=int((h+1)/2)\n",
    "for i in range(1,h+1,2):\n",
    "    if i-1==0:\n",
    "        print(\" \"*s,\"O\",sep=\"\")\n",
    "    else:\n",
    "        print(\" \"*s,\"O\",\"$\"*(i-2),\"O\",sep=\"\")\n",
    "    s-=1"
   ]
  },
  {
   "cell_type": "code",
   "execution_count": null,
   "metadata": {},
   "outputs": [],
   "source": []
  }
 ],
 "metadata": {
  "kernelspec": {
   "display_name": "Python 3",
   "language": "python",
   "name": "python3"
  },
  "language_info": {
   "codemirror_mode": {
    "name": "ipython",
    "version": 3
   },
   "file_extension": ".py",
   "mimetype": "text/x-python",
   "name": "python",
   "nbconvert_exporter": "python",
   "pygments_lexer": "ipython3",
   "version": "3.8.5"
  }
 },
 "nbformat": 4,
 "nbformat_minor": 4
}
