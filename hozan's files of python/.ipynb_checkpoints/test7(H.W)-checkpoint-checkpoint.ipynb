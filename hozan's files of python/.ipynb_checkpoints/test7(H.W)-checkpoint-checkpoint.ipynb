{
 "cells": [
  {
   "cell_type": "code",
   "execution_count": 65,
   "metadata": {},
   "outputs": [
    {
     "name": "stdout",
     "output_type": "stream",
     "text": [
      "Enter the password: $HozanAgeed4567\n",
      "The password is very strong!\n"
     ]
    }
   ],
   "source": [
    "def IsUpperExist(st):              #Hozan\n",
    "    for i in range(len(st)):\n",
    "        if st[i].isupper():\n",
    "            return True\n",
    "    return False\n",
    "\n",
    "def IsLowerExist(st):\n",
    "    for i in range(len(st)):\n",
    "        if st[i].islower():\n",
    "            return True\n",
    "    return False\n",
    "\n",
    "def IsDigitExist(st):\n",
    "    for i in range(len(st)):\n",
    "        if st[i].isdigit():\n",
    "            return True\n",
    "    return False\n",
    "\n",
    "def IsSymbolExist(st):\n",
    "    for i in range(len(st)):\n",
    "        if not (st[i].isalpha() or st[i].isdigit()):\n",
    "            return True\n",
    "    return False\n",
    "\n",
    "pw=input(\"Enter the password: \")\n",
    "count=0\n",
    "if len(pw)<8:\n",
    "    print(\"The password should be equal or greater than 8 characters!\")\n",
    "else:\n",
    "    if IsUpperExist(pw):\n",
    "        count=count+1\n",
    "    if IsLowerExist(pw):\n",
    "        count=count+1\n",
    "    if IsDigitExist(pw):\n",
    "        count=count+1\n",
    "    if IsSymbolExist(pw):\n",
    "        count=count+1\n",
    "        \n",
    "    if count==4:\n",
    "        print(\"The password is very strong!\")\n",
    "    elif count==3:\n",
    "        print(\"The password is strong!\")\n",
    "    elif count==2:\n",
    "        print(\"The password is weak!\")\n",
    "    else:\n",
    "        print(\"The password is very weak!\")"
   ]
  },
  {
   "cell_type": "code",
   "execution_count": null,
   "metadata": {},
   "outputs": [],
   "source": []
  },
  {
   "cell_type": "code",
   "execution_count": null,
   "metadata": {},
   "outputs": [],
   "source": []
  }
 ],
 "metadata": {
  "kernelspec": {
   "display_name": "Python 3",
   "language": "python",
   "name": "python3"
  },
  "language_info": {
   "codemirror_mode": {
    "name": "ipython",
    "version": 3
   },
   "file_extension": ".py",
   "mimetype": "text/x-python",
   "name": "python",
   "nbconvert_exporter": "python",
   "pygments_lexer": "ipython3",
   "version": "3.8.5"
  }
 },
 "nbformat": 4,
 "nbformat_minor": 4
}
