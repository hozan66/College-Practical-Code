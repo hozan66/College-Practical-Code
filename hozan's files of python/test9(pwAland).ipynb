{
 "cells": [
  {
   "cell_type": "code",
   "execution_count": 11,
   "metadata": {},
   "outputs": [
    {
     "name": "stdout",
     "output_type": "stream",
     "text": [
      "5\n",
      "5\n",
      "5\n",
      "5\n",
      "5\n",
      "strin"
     ]
    }
   ],
   "source": [
    "def convert_yt(string):\n",
    "    for i in range(len(string)):\n",
    "        print(len(string))\n",
    "        if  i%2==0:\n",
    "           \n",
    "            string.lower()\n",
    "    \n",
    "        else:\n",
    "             string[i].upper()\n",
    "    print(string,end=\"\")  \n",
    "    \n",
    "    \n",
    "convert_yt(\"strin\")    "
   ]
  },
  {
   "cell_type": "code",
   "execution_count": 44,
   "metadata": {},
   "outputs": [
    {
     "name": "stdout",
     "output_type": "stream",
     "text": [
      "Eu'8pKe9+A\n"
     ]
    }
   ],
   "source": [
    "import random\n",
    "from random import shuffle\n",
    "passwd = \"\"\n",
    "\n",
    "for i in range(2):\n",
    "    passwd = passwd + str(random.randint(0, 9))\n",
    "    passwd = passwd + chr(random.randint(33, 47))\n",
    "\n",
    "for i in range(3): \n",
    "    passwd = passwd + chr(random.randint(65, 90))\n",
    "    passwd = passwd + chr(random.randint(97, 122))\n",
    "    \n",
    "    \n",
    "passwd = list(passwd)\n",
    "shuffle(passwd)\n",
    "passwd = \"\".join(passwd)\n",
    "print(passwd)\n",
    "\n"
   ]
  },
  {
   "cell_type": "code",
   "execution_count": 46,
   "metadata": {},
   "outputs": [
    {
     "name": "stdout",
     "output_type": "stream",
     "text": [
      "['h', 'o', '4', 'z', 'a', 'n']\n"
     ]
    }
   ],
   "source": [
    "f=\"hozan\"\n",
    "p=list(f)\n",
    "p.insert(2, '4')\n",
    "print(p)"
   ]
  },
  {
   "cell_type": "code",
   "execution_count": null,
   "metadata": {},
   "outputs": [],
   "source": []
  }
 ],
 "metadata": {
  "kernelspec": {
   "display_name": "Python 3",
   "language": "python",
   "name": "python3"
  },
  "language_info": {
   "codemirror_mode": {
    "name": "ipython",
    "version": 3
   },
   "file_extension": ".py",
   "mimetype": "text/x-python",
   "name": "python",
   "nbconvert_exporter": "python",
   "pygments_lexer": "ipython3",
   "version": "3.8.5"
  }
 },
 "nbformat": 4,
 "nbformat_minor": 4
}
