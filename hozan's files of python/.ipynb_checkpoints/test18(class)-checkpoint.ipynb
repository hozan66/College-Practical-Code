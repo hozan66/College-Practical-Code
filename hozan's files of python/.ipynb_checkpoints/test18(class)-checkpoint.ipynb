{
 "cells": [
  {
   "cell_type": "code",
   "execution_count": 5,
   "metadata": {},
   "outputs": [],
   "source": [
    "class student:\n",
    "    s_name=\"N\"\n",
    "    s_id=0\n",
    "    s_dep=\"D\";s_phone=\"P\"\n",
    "    def get_name(self):   #self is a viarable we can change it\n",
    "        print('name',self.s_name)\n",
    "    def get_info(self):\n",
    "        print('Id: ',self.s_id)\n",
    "        print('Name: ',self.s_name)\n",
    "        print('Department: ',self.s_dep)\n",
    "        print('Phone number: ',self.s_phone)"
   ]
  },
  {
   "cell_type": "code",
   "execution_count": 6,
   "metadata": {},
   "outputs": [],
   "source": [
    "stud1=student()"
   ]
  },
  {
   "cell_type": "code",
   "execution_count": 7,
   "metadata": {},
   "outputs": [
    {
     "name": "stdout",
     "output_type": "stream",
     "text": [
      "Id:  0\n",
      "Name:  N\n",
      "Department:  D\n",
      "Phone number:  P\n"
     ]
    }
   ],
   "source": [
    "stud1.get_info()"
   ]
  },
  {
   "cell_type": "code",
   "execution_count": 8,
   "metadata": {},
   "outputs": [],
   "source": [
    "stud1.s_name=\"hozan\"\n",
    "stud1.s_id=\"12345\"\n",
    "stud1.s_dep=\"CS\"\n",
    "stud1.s_phone=\"07505556669\""
   ]
  },
  {
   "cell_type": "code",
   "execution_count": 10,
   "metadata": {},
   "outputs": [
    {
     "name": "stdout",
     "output_type": "stream",
     "text": [
      "Id:  12345\n",
      "Name:  hozan\n",
      "Department:  CS\n",
      "Phone number:  07505556669\n"
     ]
    }
   ],
   "source": [
    "stud1.get_info()"
   ]
  },
  {
   "cell_type": "code",
   "execution_count": 23,
   "metadata": {},
   "outputs": [],
   "source": [
    "class student:\n",
    "    s_name=\"\"\n",
    "    s_id=0\n",
    "    s_dep=\"\";s_phone=\"\"\n",
    "    def __init__(self):  #this method is called whenever you create an object based on this class.\n",
    "        print('create new object')\n",
    "    def get_info(self):\n",
    "        print('Id: ',self.s_id)\n",
    "        print('Name: ',self.s_name)\n",
    "        print('Department: ',self.s_dep)\n",
    "        print('Phone number: ',self.s_phone)"
   ]
  },
  {
   "cell_type": "code",
   "execution_count": 24,
   "metadata": {},
   "outputs": [
    {
     "name": "stdout",
     "output_type": "stream",
     "text": [
      "create new object\n"
     ]
    }
   ],
   "source": [
    "stu=student()"
   ]
  },
  {
   "cell_type": "code",
   "execution_count": 28,
   "metadata": {},
   "outputs": [],
   "source": [
    "class student:\n",
    "    s_name=\"\"\n",
    "    s_id=0\n",
    "    s_dep=\"\"\n",
    "    def __init__(self,s_name,s_id,s_dep): #constructor\n",
    "        self.s_name=s_name\n",
    "        self.s_id=s_id\n",
    "        self.s_dep=s_dep\n",
    "    def get_info(self):\n",
    "        print('Id: ',self.s_id)\n",
    "        print('Name: ',self.s_name)\n",
    "        print('Department: ',self.s_dep)"
   ]
  },
  {
   "cell_type": "code",
   "execution_count": 29,
   "metadata": {},
   "outputs": [],
   "source": [
    "stud2=student(\"ali\",80,\"Biology\")"
   ]
  },
  {
   "cell_type": "code",
   "execution_count": 30,
   "metadata": {},
   "outputs": [
    {
     "name": "stdout",
     "output_type": "stream",
     "text": [
      "Id:  80\n",
      "Name:  ali\n",
      "Department:  Biology\n"
     ]
    }
   ],
   "source": [
    "stud2.get_info()"
   ]
  },
  {
   "cell_type": "code",
   "execution_count": 31,
   "metadata": {},
   "outputs": [
    {
     "name": "stdout",
     "output_type": "stream",
     "text": [
      "outside class:  9\n"
     ]
    }
   ],
   "source": [
    "x=0\n",
    "class r:              \n",
    "    global x\n",
    "    x=9\n",
    "    \n",
    "print(\"outside class: \",x)"
   ]
  },
  {
   "cell_type": "code",
   "execution_count": 32,
   "metadata": {},
   "outputs": [
    {
     "name": "stdout",
     "output_type": "stream",
     "text": [
      "outside class:  0\n"
     ]
    }
   ],
   "source": [
    "x=0\n",
    "class r:              \n",
    "    def change(self):\n",
    "        global x\n",
    "        x=x+2\n",
    "    \n",
    "print(\"outside class: \",x)"
   ]
  },
  {
   "cell_type": "code",
   "execution_count": 64,
   "metadata": {},
   "outputs": [],
   "source": [
    "#HW\n",
    "#The class pp\n",
    "#How many objects create??\n",
    "c=0\n",
    "class pp:\n",
    "    x=0\n",
    "    y=2\n",
    "    def __init__(self):\n",
    "        global c\n",
    "        c+=1\n",
    "    def CountObject(self):\n",
    "        print(\"Number of object: \",c)\n"
   ]
  },
  {
   "cell_type": "code",
   "execution_count": 65,
   "metadata": {},
   "outputs": [],
   "source": [
    "a1=pp()\n",
    "a2=pp()\n",
    "a3=pp()"
   ]
  },
  {
   "cell_type": "code",
   "execution_count": 66,
   "metadata": {},
   "outputs": [
    {
     "name": "stdout",
     "output_type": "stream",
     "text": [
      "Number of object:  3\n"
     ]
    }
   ],
   "source": [
    "a3.CountObject()"
   ]
  },
  {
   "cell_type": "code",
   "execution_count": 90,
   "metadata": {},
   "outputs": [],
   "source": [
    "class rr:\n",
    "    def p(self):\n",
    "        print(\"hi\")\n",
    "    def __del__(self):\n",
    "        print(\"object delete\")"
   ]
  },
  {
   "cell_type": "code",
   "execution_count": 91,
   "metadata": {},
   "outputs": [],
   "source": [
    "s=rr()"
   ]
  },
  {
   "cell_type": "code",
   "execution_count": 92,
   "metadata": {},
   "outputs": [
    {
     "name": "stdout",
     "output_type": "stream",
     "text": [
      "hi\n"
     ]
    }
   ],
   "source": [
    "s.p()"
   ]
  },
  {
   "cell_type": "code",
   "execution_count": 93,
   "metadata": {},
   "outputs": [
    {
     "name": "stdout",
     "output_type": "stream",
     "text": [
      "object delete\n"
     ]
    }
   ],
   "source": [
    "del s"
   ]
  },
  {
   "cell_type": "code",
   "execution_count": 95,
   "metadata": {},
   "outputs": [
    {
     "ename": "NameError",
     "evalue": "name 's' is not defined",
     "output_type": "error",
     "traceback": [
      "\u001b[1;31m---------------------------------------------------------------------------\u001b[0m",
      "\u001b[1;31mNameError\u001b[0m                                 Traceback (most recent call last)",
      "\u001b[1;32m<ipython-input-95-9af5dee9ec2d>\u001b[0m in \u001b[0;36m<module>\u001b[1;34m\u001b[0m\n\u001b[1;32m----> 1\u001b[1;33m \u001b[0ms\u001b[0m\u001b[1;33m.\u001b[0m\u001b[0mp\u001b[0m\u001b[1;33m(\u001b[0m\u001b[1;33m)\u001b[0m \u001b[1;31m#NameError\u001b[0m\u001b[1;33m\u001b[0m\u001b[1;33m\u001b[0m\u001b[0m\n\u001b[0m",
      "\u001b[1;31mNameError\u001b[0m: name 's' is not defined"
     ]
    }
   ],
   "source": [
    "s.p() #NameError"
   ]
  },
  {
   "cell_type": "code",
   "execution_count": 97,
   "metadata": {},
   "outputs": [],
   "source": [
    "#inheritance like update the class\n",
    "class person:\n",
    "    def __init__(self,name,Id):\n",
    "        self.name=name\n",
    "        self.Id=Id\n",
    "        self.phone=\"\"\n",
    "    def get_info(self):\n",
    "        print(\"Id: \",self.Id)\n",
    "        print(\"Name: \",self.name)\n",
    "        print(\"Phone Number: \",self.phone)\n",
    "class staff(person):\n",
    "    dep=\"??\"\n",
    "    def staff_info(self):\n",
    "        print(\"Department: \",self.dep)"
   ]
  },
  {
   "cell_type": "code",
   "execution_count": 98,
   "metadata": {},
   "outputs": [],
   "source": [
    "s=staff(\"Ali\",89)"
   ]
  },
  {
   "cell_type": "code",
   "execution_count": 99,
   "metadata": {},
   "outputs": [],
   "source": [
    "s.phone=7826030525"
   ]
  },
  {
   "cell_type": "code",
   "execution_count": 100,
   "metadata": {},
   "outputs": [
    {
     "name": "stdout",
     "output_type": "stream",
     "text": [
      "Id:  89\n",
      "Name:  Ali\n",
      "Phone Number:  7826030525\n"
     ]
    }
   ],
   "source": [
    "s.get_info()"
   ]
  },
  {
   "cell_type": "code",
   "execution_count": 101,
   "metadata": {},
   "outputs": [],
   "source": [
    "s.dep=\"Computer\""
   ]
  },
  {
   "cell_type": "code",
   "execution_count": 102,
   "metadata": {},
   "outputs": [
    {
     "name": "stdout",
     "output_type": "stream",
     "text": [
      "Department:  Computer\n"
     ]
    }
   ],
   "source": [
    "s.staff_info()"
   ]
  },
  {
   "cell_type": "code",
   "execution_count": 103,
   "metadata": {},
   "outputs": [],
   "source": [
    "#HW   if we create an object from child class, which constructor called while both parent\n",
    "#and child classes constructor methods??"
   ]
  },
  {
   "cell_type": "code",
   "execution_count": 104,
   "metadata": {},
   "outputs": [],
   "source": [
    "class person:\n",
    "    def __init__(self):\n",
    "        print(\"constructor from parent!\")\n",
    "    def p(self):\n",
    "        print(\"Hello!\")\n",
    "        \n",
    "class staff(person):\n",
    "    def __init__(self):\n",
    "        print(\"constructor from child!\")\n",
    "    def staff(self):\n",
    "        print(\"Department Members\")"
   ]
  },
  {
   "cell_type": "code",
   "execution_count": 106,
   "metadata": {},
   "outputs": [
    {
     "name": "stdout",
     "output_type": "stream",
     "text": [
      "constructor from child!\n"
     ]
    }
   ],
   "source": [
    "ob=staff() #just constructor of child will work"
   ]
  },
  {
   "cell_type": "code",
   "execution_count": 109,
   "metadata": {},
   "outputs": [],
   "source": [
    "class r:\n",
    "    def p(self):\n",
    "        print(\"Hi\")"
   ]
  },
  {
   "cell_type": "code",
   "execution_count": 112,
   "metadata": {},
   "outputs": [
    {
     "name": "stdout",
     "output_type": "stream",
     "text": [
      "Hozan\n"
     ]
    }
   ],
   "source": [
    "i=r()\n",
    "i.name=\"Hozan\" #we can create a variable out of the class as well\n",
    "print(i.name)"
   ]
  },
  {
   "cell_type": "code",
   "execution_count": null,
   "metadata": {},
   "outputs": [],
   "source": []
  }
 ],
 "metadata": {
  "kernelspec": {
   "display_name": "Python 3",
   "language": "python",
   "name": "python3"
  },
  "language_info": {
   "codemirror_mode": {
    "name": "ipython",
    "version": 3
   },
   "file_extension": ".py",
   "mimetype": "text/x-python",
   "name": "python",
   "nbconvert_exporter": "python",
   "pygments_lexer": "ipython3",
   "version": "3.8.5"
  }
 },
 "nbformat": 4,
 "nbformat_minor": 4
}
