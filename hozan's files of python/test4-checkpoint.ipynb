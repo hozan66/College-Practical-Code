{
 "cells": [
  {
   "cell_type": "code",
   "execution_count": 10,
   "metadata": {},
   "outputs": [
    {
     "name": "stdout",
     "output_type": "stream",
     "text": [
      "iteration: 0 \n",
      "iteration: 1 \n",
      "iteration: 2 \n",
      "iteration: 3 \n",
      "iteration: 4 \n",
      "End of the loop\n"
     ]
    }
   ],
   "source": [
    "var=0\n",
    "while var<5:\n",
    "    print(f\"iteration: {var} \")\n",
    "    var=var+1\n",
    "else:\n",
    "    print(\"End of the loop\")"
   ]
  },
  {
   "cell_type": "code",
   "execution_count": 12,
   "metadata": {},
   "outputs": [
    {
     "name": "stdout",
     "output_type": "stream",
     "text": [
      "required list:  [24, 36]\n"
     ]
    }
   ],
   "source": [
    "x=20\n",
    "l=[]\n",
    "while x<=40:\n",
    "    if x%3==0 and x%4==0:\n",
    "        l.append(x)\n",
    "    x=x+1\n",
    "print(\"required list: \",l)"
   ]
  },
  {
   "cell_type": "code",
   "execution_count": 15,
   "metadata": {},
   "outputs": [
    {
     "name": "stdout",
     "output_type": "stream",
     "text": [
      "Do you want to play? Y or N: y\n",
      "Guess a number between 1-5: 3\n",
      "No :( \n",
      "Do you want to play again? Y or N: y\n",
      "Guess a number between 1-5: 4\n",
      "No :( \n",
      "Do you want to play again? Y or N: y\n",
      "Guess a number between 1-5: 3\n",
      "You guess the number :) congratulations!\n",
      "Do you want to play again? Y or N: n\n",
      "Come back again later :)\n"
     ]
    }
   ],
   "source": [
    "import random #module to generate random numbers\n",
    "p=input(\"Do you want to play? Y or N: \")\n",
    "while p.upper()=='Y':\n",
    "    x=int(input(\"Guess a number between 1-5: \"))\n",
    "    g=random.randint(1,5)\n",
    "    if x==g:\n",
    "        print(\"You guess the number :) congratulations!\")\n",
    "    else:\n",
    "        print(\"No :( \")\n",
    "    p=input(\"Do you want to play again? Y or N: \")\n",
    "else:\n",
    "    print(\"Come back again later :)\")"
   ]
  },
  {
   "cell_type": "code",
   "execution_count": 43,
   "metadata": {},
   "outputs": [
    {
     "name": "stdout",
     "output_type": "stream",
     "text": [
      "x is:  44\n",
      "y is:  4\n",
      "Random Number is:  0.8333333333333334\n"
     ]
    }
   ],
   "source": [
    "import random\n",
    "x=random.randint(1,50)\n",
    "print(\"x is: \",x)\n",
    "y=random.randint(2,5)\n",
    "print(\"y is: \",y)\n",
    "z=(abs(x-y))/(x+y)\n",
    "print(\"Random Number is: \",z)"
   ]
  },
  {
   "cell_type": "code",
   "execution_count": 1,
   "metadata": {},
   "outputs": [
    {
     "name": "stdout",
     "output_type": "stream",
     "text": [
      "choice method:  red\n",
      "sample method:  ['yellow', 'black', 'pink']\n",
      "shuffle method:  ['yellow', 'blue', 'green', 'red', 'white', 'pink', 'black']\n"
     ]
    }
   ],
   "source": [
    "from random import choice\n",
    "from random import sample\n",
    "from random import shuffle\n",
    "l=[\"white\",\"black\",\"red\",\"green\",\"blue\",\"pink\",\"yellow\"]\n",
    "print(\"choice method: \",choice(l))\n",
    "print(\"sample method: \",sample(l,3))\n",
    "shuffle(l)\n",
    "print(\"shuffle method: \",l)"
   ]
  },
  {
   "cell_type": "code",
   "execution_count": 2,
   "metadata": {},
   "outputs": [
    {
     "name": "stdout",
     "output_type": "stream",
     "text": [
      "None\n"
     ]
    }
   ],
   "source": [
    "print(shuffle(l))"
   ]
  },
  {
   "cell_type": "code",
   "execution_count": null,
   "metadata": {},
   "outputs": [],
   "source": []
  }
 ],
 "metadata": {
  "kernelspec": {
   "display_name": "Python 3",
   "language": "python",
   "name": "python3"
  },
  "language_info": {
   "codemirror_mode": {
    "name": "ipython",
    "version": 3
   },
   "file_extension": ".py",
   "mimetype": "text/x-python",
   "name": "python",
   "nbconvert_exporter": "python",
   "pygments_lexer": "ipython3",
   "version": "3.8.5"
  }
 },
 "nbformat": 4,
 "nbformat_minor": 4
}
