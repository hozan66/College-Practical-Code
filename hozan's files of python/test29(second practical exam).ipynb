{
 "cells": [
  {
   "cell_type": "code",
   "execution_count": null,
   "metadata": {},
   "outputs": [],
   "source": [
    "#Must has no repeat on the listboxes"
   ]
  },
  {
   "cell_type": "code",
   "execution_count": 86,
   "metadata": {},
   "outputs": [],
   "source": [
    "#it will be problem if you enter s character\n",
    "def andfunction():\n",
    "    if e.get():      #not accept empty\n",
    "        flag=1\n",
    "        st1=e.get()\n",
    "        st2=e.get()\n",
    "        e.delete(0,END)\n",
    "\n",
    "        if not (st1[-1]=='s' and st1[-2]=='e'):\n",
    "            st2=st1+\"es\"\n",
    "        else:\n",
    "            sn=\"\"\n",
    "            for i in range(len(st2)-2):\n",
    "                sn+=st2[i]\n",
    "            st1=sn\n",
    "\n",
    "        for i in lb1.get(0,END):  \n",
    "            if st1==i:\n",
    "                flag=0\n",
    "                break\n",
    "\n",
    "        if flag==1:\n",
    "            lb1.insert(END,st1)\n",
    "            lb2.insert(END,st2)\n",
    "        flag=1\n",
    "\n",
    "def clearallfunction():\n",
    "    e.delete(0,END)\n",
    "    lb1.delete(0,END)\n",
    "    lb2.delete(0,END)\n",
    "\n",
    "from tkinter import *\n",
    "r=Tk()\n",
    "r.geometry(\"350x350\")\n",
    "\n",
    "e=Entry(r)\n",
    "e.grid(row=1,column=1)\n",
    "\n",
    "b1=Button(r,text=\"ADD\",command=andfunction)\n",
    "b1.grid(row=1,column=2,padx=20)\n",
    "\n",
    "l1=Label(r,text=\"Singular\")\n",
    "l1.grid(row=2,column=1)\n",
    "l2=Label(r,text=\"Plural\")\n",
    "l2.grid(row=2,column=2)\n",
    "\n",
    "lb1=Listbox(r)\n",
    "lb1.grid(row=3,column=1)\n",
    "\n",
    "lb2=Listbox(r)\n",
    "lb2.grid(row=3,column=2)\n",
    "\n",
    "b2=Button(r,text=\"Clear ALl\",command=clearallfunction)\n",
    "b2.grid(row=4,columnspan=4)\n",
    "\n",
    "r.mainloop()"
   ]
  },
  {
   "cell_type": "code",
   "execution_count": null,
   "metadata": {},
   "outputs": [],
   "source": []
  },
  {
   "cell_type": "code",
   "execution_count": null,
   "metadata": {},
   "outputs": [],
   "source": []
  }
 ],
 "metadata": {
  "kernelspec": {
   "display_name": "Python 3",
   "language": "python",
   "name": "python3"
  },
  "language_info": {
   "codemirror_mode": {
    "name": "ipython",
    "version": 3
   },
   "file_extension": ".py",
   "mimetype": "text/x-python",
   "name": "python",
   "nbconvert_exporter": "python",
   "pygments_lexer": "ipython3",
   "version": "3.8.5"
  }
 },
 "nbformat": 4,
 "nbformat_minor": 4
}
