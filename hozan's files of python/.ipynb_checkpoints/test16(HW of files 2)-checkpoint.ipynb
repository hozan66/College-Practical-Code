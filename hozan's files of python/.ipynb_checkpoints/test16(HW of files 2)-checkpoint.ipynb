{
 "cells": [
  {
   "cell_type": "code",
   "execution_count": 1,
   "metadata": {},
   "outputs": [
    {
     "name": "stdout",
     "output_type": "stream",
     "text": [
      "alies\n",
      "aloes\n",
      "hames\n"
     ]
    }
   ],
   "source": [
    "import re\n",
    "l=[\"alies\",\"esaqwel\",\"abcdlki\",\"lpealftgal\",\"aloes\",\"allesplp\",\"hames\"]\n",
    "for i in l:\n",
    "    if re.search(\"es\",i):\n",
    "        if i[-1]=='s' and i[-2]=='e':\n",
    "            print(i)"
   ]
  },
  {
   "cell_type": "code",
   "execution_count": 2,
   "metadata": {},
   "outputs": [
    {
     "name": "stdout",
     "output_type": "stream",
     "text": [
      "esaqwel\n"
     ]
    }
   ],
   "source": [
    "import re\n",
    "l=[\"alies\",\"esaqwel\",\"abcdlki\",\"lpealftgal\",\"aloes\",\"allesplp\",\"hampes\"]\n",
    "for i in l:\n",
    "    if re.search(\"^es\",i): #begin with es\n",
    "            print(i)"
   ]
  },
  {
   "cell_type": "code",
   "execution_count": 3,
   "metadata": {},
   "outputs": [
    {
     "name": "stdout",
     "output_type": "stream",
     "text": [
      "hampes\n"
     ]
    }
   ],
   "source": [
    "import re\n",
    "l=[\"alies\",\"esaqwel\",\"abcdlki\",\"lpealftgal\",\"aloes\",\"allesplp\",\"hampes\"]\n",
    "for i in l:\n",
    "    if re.search(\"pes$\",i):   #end with es\n",
    "            print(i)"
   ]
  },
  {
   "cell_type": "code",
   "execution_count": 4,
   "metadata": {},
   "outputs": [
    {
     "name": "stdout",
     "output_type": "stream",
     "text": [
      "allesplp\n",
      "Ranesgin\n"
     ]
    }
   ],
   "source": [
    "import re\n",
    "l=[\"alies\",\"esaqwel\",\"abcdlki\",\"lpealftgal\",\"aloes\",\"allesplp\",\"hampes\",\"Ranesgin\"]\n",
    "for i in l:\n",
    "    if re.search(\".es.\",i): #es in the middle\n",
    "            print(i)"
   ]
  },
  {
   "cell_type": "code",
   "execution_count": 5,
   "metadata": {},
   "outputs": [
    {
     "name": "stdout",
     "output_type": "stream",
     "text": [
      "alies\n",
      "aloes\n",
      "allesplp\n",
      "hampes\n",
      "Ranesgin\n"
     ]
    }
   ],
   "source": [
    "import re\n",
    "l=[\"alies\",\"esaqwel\",\"abcdlki\",\"lpealftgal\",\"aloes\",\"allesplp\",\"hampes\",\"Ranesgin\"]\n",
    "for i in l:\n",
    "    if re.search(\"\\Ses\",i): #it must not begin with es\n",
    "            print(i)"
   ]
  },
  {
   "cell_type": "code",
   "execution_count": 34,
   "metadata": {},
   "outputs": [],
   "source": [
    "#4- Create a new text file which contain all words in file1.txt that ends with \"es\""
   ]
  },
  {
   "cell_type": "code",
   "execution_count": 7,
   "metadata": {},
   "outputs": [
    {
     "name": "stdout",
     "output_type": "stream",
     "text": [
      "Overwriting file1.txt\n"
     ]
    }
   ],
   "source": [
    "%%writefile file1.txt\n",
    "Rames sos lesasy\n",
    "esat theasHamdin escolaslege eofs sciences\n",
    "i res want toes play follyfall\n",
    "Hozan Student of Martial Arts\n"
   ]
  },
  {
   "cell_type": "code",
   "execution_count": 12,
   "metadata": {},
   "outputs": [
    {
     "name": "stdout",
     "output_type": "stream",
     "text": [
      "Rames \n",
      "sciences \n",
      "res \n",
      "toes \n",
      "\n"
     ]
    }
   ],
   "source": [
    "import re\n",
    "with open(\"file1.txt\",\"r\") as h:\n",
    "    s=h.read()\n",
    "    s=s.split()\n",
    "    li=[]\n",
    "    for i in s:\n",
    "        if re.search(\"es$\",i):\n",
    "            li.append(i)\n",
    "            \n",
    "with open(\"file.txt\",\"w\") as h:\n",
    "    for i in li:\n",
    "        h.write(f\"{i} \\n\")\n",
    "\n",
    "with open(\"file.txt\",\"r\") as h:\n",
    "    print(h.read())"
   ]
  },
  {
   "cell_type": "code",
   "execution_count": 1,
   "metadata": {},
   "outputs": [
    {
     "data": {
      "text/plain": [
       "(1, 2, 3, 4)"
      ]
     },
     "execution_count": 1,
     "metadata": {},
     "output_type": "execute_result"
    }
   ],
   "source": [
    "t1=(1,2)\n",
    "t2=(3,4)\n",
    "t3=t1+t2\n",
    "t3"
   ]
  },
  {
   "cell_type": "code",
   "execution_count": 2,
   "metadata": {},
   "outputs": [
    {
     "data": {
      "text/plain": [
       "1"
      ]
     },
     "execution_count": 2,
     "metadata": {},
     "output_type": "execute_result"
    }
   ],
   "source": [
    "t3[0]"
   ]
  },
  {
   "cell_type": "code",
   "execution_count": null,
   "metadata": {},
   "outputs": [],
   "source": [
    "#exam question\n",
    "#tuple is immutable"
   ]
  },
  {
   "cell_type": "code",
   "execution_count": 3,
   "metadata": {},
   "outputs": [
    {
     "ename": "TypeError",
     "evalue": "'tuple' object does not support item assignment",
     "output_type": "error",
     "traceback": [
      "\u001b[1;31m---------------------------------------------------------------------------\u001b[0m",
      "\u001b[1;31mTypeError\u001b[0m                                 Traceback (most recent call last)",
      "\u001b[1;32m<ipython-input-3-f15a23b8a05d>\u001b[0m in \u001b[0;36m<module>\u001b[1;34m\u001b[0m\n\u001b[0;32m      2\u001b[0m \u001b[1;32mfor\u001b[0m \u001b[0mi\u001b[0m \u001b[1;32min\u001b[0m \u001b[0mt\u001b[0m\u001b[1;33m:\u001b[0m\u001b[1;33m\u001b[0m\u001b[1;33m\u001b[0m\u001b[0m\n\u001b[0;32m      3\u001b[0m     \u001b[1;32mif\u001b[0m \u001b[0mi\u001b[0m\u001b[1;33m%\u001b[0m\u001b[1;36m2\u001b[0m\u001b[1;33m==\u001b[0m\u001b[1;36m0\u001b[0m\u001b[1;33m:\u001b[0m\u001b[1;33m\u001b[0m\u001b[1;33m\u001b[0m\u001b[0m\n\u001b[1;32m----> 4\u001b[1;33m         \u001b[0mt\u001b[0m\u001b[1;33m[\u001b[0m\u001b[0mt\u001b[0m\u001b[1;33m.\u001b[0m\u001b[0mindex\u001b[0m\u001b[1;33m(\u001b[0m\u001b[0mi\u001b[0m\u001b[1;33m)\u001b[0m\u001b[1;33m]\u001b[0m\u001b[1;33m=\u001b[0m\u001b[0mi\u001b[0m\u001b[1;33m+\u001b[0m\u001b[1;36m1\u001b[0m\u001b[1;33m\u001b[0m\u001b[1;33m\u001b[0m\u001b[0m\n\u001b[0m\u001b[0;32m      5\u001b[0m \u001b[0mprint\u001b[0m\u001b[1;33m(\u001b[0m\u001b[0mt\u001b[0m\u001b[1;33m)\u001b[0m\u001b[1;33m\u001b[0m\u001b[1;33m\u001b[0m\u001b[0m\n",
      "\u001b[1;31mTypeError\u001b[0m: 'tuple' object does not support item assignment"
     ]
    }
   ],
   "source": [
    "t=(1,2,3)\n",
    "for i in t:\n",
    "    if i%2==0:\n",
    "        t[t.index(i)]=i+1\n",
    "print(t)"
   ]
  },
  {
   "cell_type": "code",
   "execution_count": null,
   "metadata": {},
   "outputs": [],
   "source": []
  }
 ],
 "metadata": {
  "kernelspec": {
   "display_name": "Python 3",
   "language": "python",
   "name": "python3"
  },
  "language_info": {
   "codemirror_mode": {
    "name": "ipython",
    "version": 3
   },
   "file_extension": ".py",
   "mimetype": "text/x-python",
   "name": "python",
   "nbconvert_exporter": "python",
   "pygments_lexer": "ipython3",
   "version": "3.8.5"
  }
 },
 "nbformat": 4,
 "nbformat_minor": 4
}
