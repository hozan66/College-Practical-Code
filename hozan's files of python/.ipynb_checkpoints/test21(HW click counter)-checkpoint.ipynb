{
 "cells": [
  {
   "cell_type": "code",
   "execution_count": 1,
   "metadata": {},
   "outputs": [],
   "source": [
    "#How to make a simple click counter in python Tkinter"
   ]
  },
  {
   "cell_type": "code",
   "execution_count": 1,
   "metadata": {},
   "outputs": [],
   "source": [
    "def counter():\n",
    "    global c\n",
    "    global click\n",
    "    c+=1 \n",
    "    click.pack_forget()  #this means that a new label won't be created under the old one\n",
    "    \n",
    "    click=Label(r, text=c)\n",
    "    click.pack()\n",
    "\n",
    "from tkinter import *\n",
    "c=0\n",
    "r=Tk()\n",
    "    \n",
    "b=Button(r,text=\"\\t\\tPush!\\t\\t\\t\", command=counter)\n",
    "b.pack()\n",
    "\n",
    "click=Label(r, text=c)\n",
    "click.pack()\n",
    "\n",
    "r.mainloop()"
   ]
  },
  {
   "cell_type": "code",
   "execution_count": 1,
   "metadata": {},
   "outputs": [],
   "source": [
    "def counter():\n",
    "    global c\n",
    "    c+=1 \n",
    "    click.config(text=c)\n",
    "\n",
    "from tkinter import *\n",
    "c=0\n",
    "r=Tk()\n",
    "    \n",
    "b=Button(r,text=\"\\t\\tPush!\\t\\t\\t\", command=counter)\n",
    "b.pack()\n",
    "\n",
    "click=Label(r, text=c)\n",
    "click.pack()\n",
    "\n",
    "r.mainloop()"
   ]
  },
  {
   "cell_type": "code",
   "execution_count": null,
   "metadata": {},
   "outputs": [],
   "source": []
  }
 ],
 "metadata": {
  "kernelspec": {
   "display_name": "Python 3",
   "language": "python",
   "name": "python3"
  },
  "language_info": {
   "codemirror_mode": {
    "name": "ipython",
    "version": 3
   },
   "file_extension": ".py",
   "mimetype": "text/x-python",
   "name": "python",
   "nbconvert_exporter": "python",
   "pygments_lexer": "ipython3",
   "version": "3.8.5"
  }
 },
 "nbformat": 4,
 "nbformat_minor": 4
}
