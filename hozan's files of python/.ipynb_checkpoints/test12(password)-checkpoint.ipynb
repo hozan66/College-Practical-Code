{
 "cells": [
  {
   "cell_type": "code",
   "execution_count": 4,
   "metadata": {},
   "outputs": [
    {
     "name": "stdout",
     "output_type": "stream",
     "text": [
      "Your random password:  Zu0w^fI&1G\n"
     ]
    }
   ],
   "source": [
    "#our question was to print a random password:\n",
    "# 1.length of password must be 10\n",
    "# 2. 3 capital letters,\n",
    "# 3. 3 small letters,\n",
    "# 4. 2 digits,\n",
    "# 5. 2 of these symbols($&@^*#%.....)\n",
    "# output: @AMWwfx1*3\n",
    "# Note:Use ASCII code\n",
    "# (A-Z):65-90\n",
    "# (a-z):97-122\n",
    "# Note: each time when you run the code it should be totally random.\n",
    "\n",
    "import random\n",
    "from random import choice\n",
    "from random import shuffle\n",
    "pw=[]\n",
    "symbol=['~','!','@','#','$','%','^','&','*']\n",
    "for i in range(3):\n",
    "    temp=chr(random.randint(65,90))\n",
    "    pw.append(temp)\n",
    "    temp=chr(random.randint(97,122))\n",
    "    pw.append(temp)\n",
    "    \n",
    "    if i<2:\n",
    "        temp=str(random.randint(0,9))\n",
    "        pw.append(temp)\n",
    "        temp=choice(symbol)\n",
    "        pw.append(temp)\n",
    "        \n",
    "shuffle(pw)\n",
    "pw=\"\".join(pw)\n",
    "print(\"Your random password: \",pw)\n"
   ]
  },
  {
   "cell_type": "code",
   "execution_count": 10,
   "metadata": {},
   "outputs": [
    {
     "name": "stdout",
     "output_type": "stream",
     "text": [
      "Enter odd number: 5\n",
      "*   *\n",
      " * * \n",
      "  *  \n",
      " * * \n",
      "*   *\n"
     ]
    }
   ],
   "source": [
    "x=int(input(\"Enter odd number: \"))\n",
    "for i in range(1,x+1):\n",
    "    for j in range(1,x+1):\n",
    "        if i==j or i+j==x+1:\n",
    "            print(\"*\",end=\"\")\n",
    "        else:\n",
    "            print(\" \",end=\"\")\n",
    "    print(\"\")"
   ]
  },
  {
   "cell_type": "code",
   "execution_count": 11,
   "metadata": {},
   "outputs": [
    {
     "name": "stdout",
     "output_type": "stream",
     "text": [
      "Enter password: Co%Pu3t@5\n",
      "Upper letters:  CP\n",
      "Lower letters:  out\n",
      "Numeric:  35\n",
      "Symbol:  %@\n"
     ]
    }
   ],
   "source": [
    "#Write a python program to input a string and classify elements of string into\n",
    "#Upper letter, Lower letter, Numeric and symbol as following:\n",
    "# Not:\n",
    "# Enter password: Co%Pu3t@5\n",
    "# output\n",
    "# Upper letters: CP\n",
    "# Lower letters: out\n",
    "# Numeric: 35\n",
    "# Symbol: %@\n",
    "\n",
    "import re\n",
    "c=\"\";s=\"\";n=\"\";sy=\"\"\n",
    "pw=input(\"Enter password: \")\n",
    "pw=list(pw)\n",
    "for i in pw:\n",
    "    if re.search(\"[A-Z]\",i):\n",
    "        c+=i\n",
    "    if re.search(\"[a-z]\",i):\n",
    "        s+=i\n",
    "    if re.search(\"[0-9]\",i):\n",
    "        n+=i\n",
    "    if re.search(\"[~!@#$%^&*]\",i):\n",
    "        sy+=i\n",
    "\n",
    "print(\"Upper letters: \",c)\n",
    "print(\"Lower letters: \",s)\n",
    "print(\"Numeric: \",n)\n",
    "print(\"Symbol: \",sy)"
   ]
  },
  {
   "cell_type": "code",
   "execution_count": null,
   "metadata": {},
   "outputs": [],
   "source": []
  }
 ],
 "metadata": {
  "kernelspec": {
   "display_name": "Python 3",
   "language": "python",
   "name": "python3"
  },
  "language_info": {
   "codemirror_mode": {
    "name": "ipython",
    "version": 3
   },
   "file_extension": ".py",
   "mimetype": "text/x-python",
   "name": "python",
   "nbconvert_exporter": "python",
   "pygments_lexer": "ipython3",
   "version": "3.8.5"
  }
 },
 "nbformat": 4,
 "nbformat_minor": 4
}
