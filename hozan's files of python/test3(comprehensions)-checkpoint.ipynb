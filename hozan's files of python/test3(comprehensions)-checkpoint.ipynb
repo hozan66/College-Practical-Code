{
 "cells": [
  {
   "cell_type": "code",
   "execution_count": 1,
   "metadata": {},
   "outputs": [
    {
     "name": "stdout",
     "output_type": "stream",
     "text": [
      "New list:  [12, 10, 6, 4, 2, 19]\n"
     ]
    }
   ],
   "source": [
    "st=[12,10,5,3,1,19]\n",
    "#output st=[12,10,6,4,2,19]\n",
    "nst=[]\n",
    "for i in st:\n",
    "    if i<7:\n",
    "        nst.append(i+1)\n",
    "    else:\n",
    "        nst.append(i)\n",
    "print(\"New list: \",nst)"
   ]
  },
  {
   "cell_type": "code",
   "execution_count": 3,
   "metadata": {},
   "outputs": [
    {
     "name": "stdout",
     "output_type": "stream",
     "text": [
      "New list:  [12, 10, 6, 4, 2, 19]\n"
     ]
    }
   ],
   "source": [
    "st=[12,10,5,3,1,19]\n",
    "#output st=[12,10,6,4,2,19]\n",
    "nst=[i if i>7 else i+1 for i in st]\n",
    "print(\"New list: \",nst)"
   ]
  },
  {
   "cell_type": "code",
   "execution_count": 3,
   "metadata": {},
   "outputs": [
    {
     "name": "stdout",
     "output_type": "stream",
     "text": [
      "New list:  [13, 11, 6, 4, 2, 20]\n"
     ]
    }
   ],
   "source": [
    "st=[12,10,5,3,1,19]\n",
    "#output st=[13,11,6,4,2,20]\n",
    "nst=[]\n",
    "for i in st:\n",
    "        nst.append(i+1)\n",
    "print(\"New list: \",nst)"
   ]
  },
  {
   "cell_type": "code",
   "execution_count": 4,
   "metadata": {},
   "outputs": [
    {
     "name": "stdout",
     "output_type": "stream",
     "text": [
      "New list:  [13, 11, 6, 4, 2, 20]\n"
     ]
    }
   ],
   "source": [
    "st=[12,10,5,3,1,19]\n",
    "#output st=[13,11,6,4,2,20]\n",
    "nst=[i+1 for i in st]\n",
    "print(\"New list: \",nst)"
   ]
  },
  {
   "cell_type": "code",
   "execution_count": null,
   "metadata": {},
   "outputs": [],
   "source": []
  }
 ],
 "metadata": {
  "kernelspec": {
   "display_name": "Python 3",
   "language": "python",
   "name": "python3"
  },
  "language_info": {
   "codemirror_mode": {
    "name": "ipython",
    "version": 3
   },
   "file_extension": ".py",
   "mimetype": "text/x-python",
   "name": "python",
   "nbconvert_exporter": "python",
   "pygments_lexer": "ipython3",
   "version": "3.8.5"
  }
 },
 "nbformat": 4,
 "nbformat_minor": 4
}
