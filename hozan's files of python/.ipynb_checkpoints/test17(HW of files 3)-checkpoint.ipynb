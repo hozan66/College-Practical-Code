{
 "cells": [
  {
   "cell_type": "code",
   "execution_count": 4,
   "metadata": {},
   "outputs": [],
   "source": [
    "#5-Find the frequency of all words in a text file and save it\n",
    "#in a dictionary object, where keys contain words\n",
    "#and the values contain the requency??"
   ]
  },
  {
   "cell_type": "code",
   "execution_count": 10,
   "metadata": {},
   "outputs": [
    {
     "name": "stdout",
     "output_type": "stream",
     "text": [
      "Overwriting freq.txt\n"
     ]
    }
   ],
   "source": [
    "%%writefile freq.txt\n",
    "hello a science from a 2020 computer a science\n",
    "2020 hello from a college from a science\n",
    "study a computer a science 2020"
   ]
  },
  {
   "cell_type": "code",
   "execution_count": 12,
   "metadata": {},
   "outputs": [
    {
     "name": "stdout",
     "output_type": "stream",
     "text": [
      "{'computer': 2, '2020': 3, 'study': 1, 'science': 4, 'hello': 2, 'college': 1, 'a': 7, 'from': 3}\n"
     ]
    }
   ],
   "source": [
    "with open(\"freq.txt\",\"r\") as g:\n",
    "    st=g.read()\n",
    "    st=st.split()\n",
    "    se=set(st)\n",
    "    dic={}\n",
    "    for i in se:\n",
    "        dic[i]=st.count(i)\n",
    "print(dic)"
   ]
  },
  {
   "cell_type": "code",
   "execution_count": null,
   "metadata": {},
   "outputs": [],
   "source": []
  }
 ],
 "metadata": {
  "kernelspec": {
   "display_name": "Python 3",
   "language": "python",
   "name": "python3"
  },
  "language_info": {
   "codemirror_mode": {
    "name": "ipython",
    "version": 3
   },
   "file_extension": ".py",
   "mimetype": "text/x-python",
   "name": "python",
   "nbconvert_exporter": "python",
   "pygments_lexer": "ipython3",
   "version": "3.8.5"
  }
 },
 "nbformat": 4,
 "nbformat_minor": 4
}
