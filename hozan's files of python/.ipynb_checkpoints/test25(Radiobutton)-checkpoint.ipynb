{
 "cells": [
  {
   "cell_type": "code",
   "execution_count": 1,
   "metadata": {},
   "outputs": [],
   "source": [
    "from tkinter import *\n",
    "root=Tk()\n",
    "root.geometry(\"400x400\")\n",
    "\n",
    "v=StringVar()\n",
    "v.set(\"black\")\n",
    "#We use lambda inside (command) to call function that consists a single line of code\n",
    "#we link all Radiobuttons to become one group by using only one variable (v)\n",
    "\n",
    "Radiobutton(root,text=\"White\",variable=v,value=\"white\",command=lambda: root.config(bg=v.get())).pack()\n",
    "Radiobutton(root,text=\"Tomato\",variable=v,value=\"tomato\",command=lambda: root.config(bg=v.get())).pack()\n",
    "Radiobutton(root,text=\"Hot Pink\",variable=v,value=\"hot pink\",command=lambda: root.config(bg=v.get())).pack()\n",
    "Radiobutton(root,text=\"Orange\",variable=v,value=\"orange\",command=lambda: root.config(bg=v.get())).pack()\n",
    "\n",
    "\n",
    "root.mainloop()"
   ]
  },
  {
   "cell_type": "code",
   "execution_count": 3,
   "metadata": {},
   "outputs": [],
   "source": [
    "from tkinter import *\n",
    "root=Tk()\n",
    "root.geometry(\"400x400\")\n",
    "\n",
    "p1=PhotoImage(file=\"l1.png\")\n",
    "p2=PhotoImage(file=\"l2.png\")\n",
    "p3=PhotoImage(file=\"l3.png\")\n",
    "\n",
    "v=IntVar()\n",
    "v.set(0)\n",
    "Label(root,font=(\"Arial\",24,\"bold\"),textvariable=v).pack()\n",
    "\n",
    "Radiobutton(root,image=p1,variable=v,value=1).pack()\n",
    "Radiobutton(root,image=p2,variable=v,value=2).pack()\n",
    "Radiobutton(root,image=p3,variable=v,value=3).pack()\n",
    "\n",
    "\n",
    "root.mainloop()"
   ]
  },
  {
   "cell_type": "code",
   "execution_count": 5,
   "metadata": {},
   "outputs": [],
   "source": [
    "from tkinter import *\n",
    "root=Tk()\n",
    "root.geometry(\"400x400\")\n",
    "\n",
    "p1=PhotoImage(file=\"l1.png\")\n",
    "p2=PhotoImage(file=\"l2.png\")\n",
    "p3=PhotoImage(file=\"l3.png\")\n",
    "\n",
    "v=IntVar()\n",
    "v.set(0)\n",
    "Label(root,font=(\"Arial\",24,\"bold\"),textvariable=v).pack()\n",
    "\n",
    "#off ==> image=p1\n",
    "#on ==> selectimage=p2  when we click\n",
    "Radiobutton(root,image=p1,variable=v,value=1,selectimage=p2).pack()\n",
    "Radiobutton(root,image=p2,variable=v,value=2,selectcolor=\"red\").pack()\n",
    "Radiobutton(root,image=p3,variable=v,value=3).pack()\n",
    "\n",
    "\n",
    "root.mainloop()"
   ]
  },
  {
   "cell_type": "code",
   "execution_count": 18,
   "metadata": {},
   "outputs": [],
   "source": [
    "from tkinter import *\n",
    "root=Tk()\n",
    "root.geometry(\"400x400\")\n",
    "\n",
    "#side=\"top\"  by default\n",
    "#anchor=\"center\"  by default\n",
    "Label(root,text=\"Hello\",font=(\"Arial\",24,\"bold\"),bg=\"orange\").pack(side=\"top\",fill=X) #by default it will take the whole row of top\n",
    "Label(root,text=\"Hi!\",font=(\"Arial\",24,\"bold\"),bg=\"light blue\").pack(anchor=W) #fill and anchor can not work with each other\n",
    "Label(root,text=\"LEFT\",font=(\"Arial\",24,\"bold\"),bg=\"pink\").pack(side=\"left\",fill=Y)\n",
    "Label(root,text=\"RIGHT\",font=(\"Arial\",24,\"bold\"),bg=\"red\").pack(side=\"right\",fill=Y)\n",
    "Label(root,text=\"BOTTOM\",font=(\"Arial\",24,\"bold\"),bg=\"yellow\").pack(side=\"bottom\",fill=X)\n",
    "\n",
    "\n",
    "root.mainloop()"
   ]
  },
  {
   "cell_type": "code",
   "execution_count": null,
   "metadata": {},
   "outputs": [],
   "source": []
  }
 ],
 "metadata": {
  "kernelspec": {
   "display_name": "Python 3",
   "language": "python",
   "name": "python3"
  },
  "language_info": {
   "codemirror_mode": {
    "name": "ipython",
    "version": 3
   },
   "file_extension": ".py",
   "mimetype": "text/x-python",
   "name": "python",
   "nbconvert_exporter": "python",
   "pygments_lexer": "ipython3",
   "version": "3.8.5"
  }
 },
 "nbformat": 4,
 "nbformat_minor": 4
}
