{
 "cells": [
  {
   "cell_type": "code",
   "execution_count": 6,
   "metadata": {},
   "outputs": [],
   "source": [
    "from tkinter import *\n",
    "root=Tk()\n",
    "\n",
    "root.geometry(\"350x200+40+40\")\n",
    "root.title(\"Start\")\n",
    "root.maxsize(500,500)\n",
    "root.minsize(150,150)\n",
    "root.resizable(False,True) #both of it True by default\n",
    "root.iconbitmap(r\"python.ico\")\n",
    "root.configure(bg=\"#d8d860\") #or background -or config     #indirect\n",
    "l=Label(root,text=\"Hozan\",font=(\"Arial\",16,\"bold\"),bg=\"red\",width=16,height=4) #direct\n",
    "l.pack()  #with reference\n",
    "#Label(root,text=\"Hozan\").pack() #(without reference)we will use it when we need display widget once\n",
    "\n",
    "#l.configure(font=(\"Arial\",16,\"bold\"),bg=\"red\") #indirect\n",
    "l.config(anchor=\"se\",relief=\"raised\",borderwidth=5,cursor=\"heart\") #borderwidth=2 by default\n",
    "\n",
    "root.mainloop();"
   ]
  },
  {
   "cell_type": "code",
   "execution_count": null,
   "metadata": {},
   "outputs": [],
   "source": []
  }
 ],
 "metadata": {
  "kernelspec": {
   "display_name": "Python 3",
   "language": "python",
   "name": "python3"
  },
  "language_info": {
   "codemirror_mode": {
    "name": "ipython",
    "version": 3
   },
   "file_extension": ".py",
   "mimetype": "text/x-python",
   "name": "python",
   "nbconvert_exporter": "python",
   "pygments_lexer": "ipython3",
   "version": "3.8.5"
  }
 },
 "nbformat": 4,
 "nbformat_minor": 4
}
