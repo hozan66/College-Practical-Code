{
 "cells": [
  {
   "cell_type": "code",
   "execution_count": 5,
   "metadata": {},
   "outputs": [
    {
     "name": "stdout",
     "output_type": "stream",
     "text": [
      "4\n",
      "2\n"
     ]
    }
   ],
   "source": [
    "#Write a function to print a lesser number of two numbers\n",
    "#if both even numbers, and return the greatest number if one of the odd or both.\n",
    "def two_n(a,b):\n",
    "    if a%2==0 and b%2==0:\n",
    "        return (min(a,b))\n",
    "    else:\n",
    "        return (max(a,b))\n",
    "print (two_n(1,4))\n",
    "print (two_n(2,4))"
   ]
  },
  {
   "cell_type": "code",
   "execution_count": 24,
   "metadata": {},
   "outputs": [
    {
     "name": "stdout",
     "output_type": "stream",
     "text": [
      "Not Match first each word\n",
      "Match first each word\n"
     ]
    }
   ],
   "source": [
    "#Write a function to accept a string of two words, if both words\n",
    "#starting with the same letter return Match word, otherwise return not match\n",
    "def str_match(a):\n",
    "    a=a.split()\n",
    "    if a[0][0]==a[1][0]:\n",
    "        return (\"Match first each word\")\n",
    "    else:\n",
    "        return (\"Not Match first each word\")\n",
    "s1=\"Hello World!\"\n",
    "s2=\"Hello Hamza\"\n",
    "print(str_match(s1))\n",
    "print(str_match(s2))"
   ]
  },
  {
   "cell_type": "code",
   "execution_count": 13,
   "metadata": {},
   "outputs": [
    {
     "name": "stdout",
     "output_type": "stream",
     "text": [
      "True\n",
      "False\n",
      "True\n"
     ]
    }
   ],
   "source": [
    "#Write a function to accept two numbers, the sum of two numbers\n",
    "#or one of them is 20 then return True, otherwise return False\n",
    "def twenty(a,b):\n",
    "    if a+b==20 or a==20 or b==20:\n",
    "        return (True)\n",
    "    else:\n",
    "        return (False)\n",
    "print(twenty(20,30))\n",
    "print(twenty(10,8))\n",
    "print(twenty(12,8))"
   ]
  },
  {
   "cell_type": "code",
   "execution_count": 14,
   "metadata": {},
   "outputs": [
    {
     "name": "stdout",
     "output_type": "stream",
     "text": [
      "True\n",
      "False\n",
      "True\n"
     ]
    }
   ],
   "source": [
    "#Write a function to accept two numbers, the sum of two numbers\n",
    "#or one of them is 20 then return True, otherwise return False\n",
    "def twenty(a,b):\n",
    "    return (a+b==20 or a==20 or b==20)\n",
    "        \n",
    "print(twenty(20,30))\n",
    "print(twenty(10,8))\n",
    "print(twenty(12,8))"
   ]
  },
  {
   "cell_type": "code",
   "execution_count": 19,
   "metadata": {},
   "outputs": [
    {
     "data": {
      "text/plain": [
       "'you are How'"
      ]
     },
     "execution_count": 19,
     "metadata": {},
     "output_type": "execute_result"
    }
   ],
   "source": [
    "#Write a function to reverse a words order in string.\n",
    "def rev_str(a):\n",
    "    a=a.split()\n",
    "    a.reverse()\n",
    "    a=\" \".join(a)\n",
    "    return a\n",
    "    \n",
    "rev_str(\"How are you\")"
   ]
  },
  {
   "cell_type": "code",
   "execution_count": 31,
   "metadata": {},
   "outputs": [
    {
     "data": {
      "text/plain": [
       "'The password is very strong!'"
      ]
     },
     "execution_count": 31,
     "metadata": {},
     "output_type": "execute_result"
    }
   ],
   "source": [
    "#Write a function to enter the password, the password length must be greater than or equal \n",
    "#to 8 characters,\n",
    "#then check the conditions\n",
    "#1- A-Z\n",
    "#2- a-z\n",
    "#3- 0-9\n",
    "#4-symbols\n",
    "#if the password contains one condition ==>weak\n",
    "#if the password contains two condition ==>very weak\n",
    "#if the password contains three condition ==>strong\n",
    "#if the password contains four condition ==>very strong\n",
    "def password(x):\n",
    "    s=0;c=0;n=0;sy=0\n",
    "    if len(x)>=8:\n",
    "        if re.search(\"[a-z]\",x):\n",
    "            s=1\n",
    "        if re.search(\"[A-Z]\",x):\n",
    "            c=1\n",
    "        if re.search(\"[0-9]\",x):\n",
    "            n=1\n",
    "        if re.search(\"[~!@#$%^&*()_+|\\]}[}'\\?<>,]\",x):\n",
    "            sy=1\n",
    "            \n",
    "        t=s+c+n+sy   \n",
    "        if t==4:\n",
    "            return(\"The password is very strong!\")\n",
    "        elif t==3:\n",
    "            return(\"The password is strong!\")\n",
    "        elif t==2:\n",
    "            return(\"The password is weak!\")\n",
    "        else:\n",
    "            return(\"The password is very weak!\")\n",
    "    else:\n",
    "        return (\"the password length must be greater than or equal to 8 characters\")\n",
    "    \n",
    "import re\n",
    "password(\"coQmdfsdgdfd@0!@$Af\")"
   ]
  },
  {
   "cell_type": "code",
   "execution_count": 2,
   "metadata": {},
   "outputs": [
    {
     "name": "stdout",
     "output_type": "stream",
     "text": [
      "True\n",
      "True\n",
      "False\n",
      "True\n",
      "True\n"
     ]
    }
   ],
   "source": [
    "#Write a function to return true if the difference between n number and 100 or 200 between range 10\n",
    "def range_10(a):\n",
    "    for i in list(range(11)):\n",
    "        if abs(a-200)==i or abs(a-100)==i:\n",
    "            return True\n",
    "    return False\n",
    "    \n",
    "print(range_10(203))\n",
    "print(range_10(90))\n",
    "print(range_10(300))\n",
    "print(range_10(100))\n",
    "print(range_10(99))"
   ]
  },
  {
   "cell_type": "code",
   "execution_count": 2,
   "metadata": {},
   "outputs": [
    {
     "name": "stdout",
     "output_type": "stream",
     "text": [
      "True\n",
      "True\n",
      "False\n",
      "True\n",
      "True\n"
     ]
    }
   ],
   "source": [
    "def f(n):\n",
    "    return(abs(n-100) in range(11) or abs(n-200) in range(11)) #not recommended.\n",
    "\n",
    "print(f(203))\n",
    "print(f(90))\n",
    "print(f(300))\n",
    "print(f(100))\n",
    "print(f(99))"
   ]
  },
  {
   "cell_type": "code",
   "execution_count": 52,
   "metadata": {},
   "outputs": [
    {
     "name": "stdout",
     "output_type": "stream",
     "text": [
      "(1, 2, 'ds')\n",
      "3\n",
      "1\n",
      "<class 'tuple'>\n"
     ]
    }
   ],
   "source": [
    "def two(*a):\n",
    "    print(a)\n",
    "    print(len(a))\n",
    "    print(a[0])\n",
    "    print(type(a))\n",
    "two(1,2,\"ds\")"
   ]
  },
  {
   "cell_type": "code",
   "execution_count": 1,
   "metadata": {},
   "outputs": [
    {
     "name": "stdout",
     "output_type": "stream",
     "text": [
      "True\n",
      "False\n",
      "True\n",
      "False\n",
      "True\n"
     ]
    }
   ],
   "source": [
    "#Write a function with unlimited arguments, if two beside arguments have same value, \n",
    "#return true else return false\n",
    "def two_beside(*a):\n",
    "    for i in range(len(a)-1):\n",
    "        if a[i]==a[i+1]:\n",
    "            return True\n",
    "    return False\n",
    "print(two_beside(1,\"ds\",\"dd\",51,51))  \n",
    "print(two_beside(1,\"ds\",\"dd\",1))\n",
    "print(two_beside(1,\"a\",\"a\",3,\"Computer\"))\n",
    "print(two_beside(1,\"ali\",3,99))\n",
    "print(two_beside([\"a\",\"b\"],[\"a\",\"b\"],\"ds\",\"dd\",1))"
   ]
  },
  {
   "cell_type": "code",
   "execution_count": null,
   "metadata": {},
   "outputs": [],
   "source": []
  }
 ],
 "metadata": {
  "kernelspec": {
   "display_name": "Python 3",
   "language": "python",
   "name": "python3"
  },
  "language_info": {
   "codemirror_mode": {
    "name": "ipython",
    "version": 3
   },
   "file_extension": ".py",
   "mimetype": "text/x-python",
   "name": "python",
   "nbconvert_exporter": "python",
   "pygments_lexer": "ipython3",
   "version": "3.8.5"
  }
 },
 "nbformat": 4,
 "nbformat_minor": 4
}
