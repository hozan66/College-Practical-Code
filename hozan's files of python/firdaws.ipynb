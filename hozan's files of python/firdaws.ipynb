{
 "cells": [
  {
   "cell_type": "code",
   "execution_count": 5,
   "metadata": {},
   "outputs": [],
   "source": [
    "i=1\n",
    "def add():\n",
    "    global i\n",
    "    st=f'{i}'+\"-\"+str(e.get())+\" --> \"+str(v.get())\n",
    "    \n",
    "    ib.insert(i,st)\n",
    "    i+=1\n",
    "    e.delete(0,END)\n",
    "\n",
    "from tkinter import*\n",
    "r=Tk()\n",
    "r.geometry(\"600x400\")\n",
    "Label(r,text=\"Name: \",font=(\"arial\",16,\"bold\"),relief=\"ridge\",borderwidth=6).grid(row=1,column=1)\n",
    "\n",
    "e=Entry(r,font=('arial',16))\n",
    "e.grid(row=1,column=2)\n",
    "Label(r,text=\"Gender: \",font=(\"arial\",16,\"bold\"),relief=\"ridge\",borderwidth=6).grid(row=2,column=1)\n",
    "\n",
    "v=StringVar()\n",
    "Radiobutton(r,text=\"Male\",value=\"M\",font=16,variable=v,relief=\"ridge\",borderwidth=6).grid(row=2,column=2)\n",
    "Radiobutton(r,text=\"Female\",value=\"F\",font=16,variable=v,relief=\"ridge\",borderwidth=6).grid(row=2,column=3)\n",
    "\n",
    "Label(r,text=\"Records: \",font=(\"arial\",16,\"bold\"),relief=\"ridge\",borderwidth=6).grid(row=3,column=1,sticky=N)\n",
    "\n",
    "ib=Listbox(r,bg=\"white\",width=30,height=10,relief=\"raised\",font=('arial',16))\n",
    "ib.grid(row=3,column=2)\n",
    "\n",
    "Button(r,text=\"Close\",font=('arial',16),command=lambda:r.destroy()).grid(row=4,column=1)\n",
    "Button(r,text=\"Add\",font=('arial',16),command=add).grid(row=4,column=3)\n",
    "r.mainloop()"
   ]
  },
  {
   "cell_type": "code",
   "execution_count": null,
   "metadata": {},
   "outputs": [],
   "source": []
  },
  {
   "cell_type": "code",
   "execution_count": null,
   "metadata": {},
   "outputs": [],
   "source": []
  }
 ],
 "metadata": {
  "kernelspec": {
   "display_name": "Python 3",
   "language": "python",
   "name": "python3"
  },
  "language_info": {
   "codemirror_mode": {
    "name": "ipython",
    "version": 3
   },
   "file_extension": ".py",
   "mimetype": "text/x-python",
   "name": "python",
   "nbconvert_exporter": "python",
   "pygments_lexer": "ipython3",
   "version": "3.8.5"
  }
 },
 "nbformat": 4,
 "nbformat_minor": 4
}
