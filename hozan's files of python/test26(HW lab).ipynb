{
 "cells": [
  {
   "cell_type": "code",
   "execution_count": 2,
   "metadata": {},
   "outputs": [],
   "source": [
    "from tkinter import *\n",
    "root=Tk()\n",
    "root.geometry(\"400x400\")\n",
    "\n",
    "Label(root,bg=\"red\").pack(side=\"top\",fill=X,ipady=20)\n",
    "Label(root,bg=\"yellow\").pack(side=\"right\",fill=Y,ipadx=30)\n",
    "Label(root,bg=\"orange\").pack(side=\"bottom\",fill=X,ipady=20)\n",
    "Label(root,bg=\"pink\").pack(side=\"left\",fill=Y,ipadx=30)\n",
    "\n",
    "Label(root,bg=\"light blue\").pack(side=\"top\",fill=X,ipady=20)\n",
    "Label(root,bg=\"green\").pack(side=\"right\",fill=Y,ipadx=30)\n",
    "Label(root,bg=\"tomato\").pack(side=\"bottom\",fill=X,ipady=20)\n",
    "Label(root,bg=\"black\").pack(side=\"left\",fill=Y,ipadx=30)\n",
    "\n",
    "Label(root,text=\"Hello!\",font=(\"Arial\",14,\"bold\"),bg=\"white\").pack(fill=X,ipady=1000)\n",
    "\n",
    "root.mainloop()"
   ]
  },
  {
   "cell_type": "code",
   "execution_count": 4,
   "metadata": {},
   "outputs": [],
   "source": [
    "i=1\n",
    "def add():\n",
    "    if (e.get()):   #it means that the Entry is not empty\n",
    "        global i\n",
    "        st= str(i) + \" - \" + e.get() + \" is \" + v.get()\n",
    "        lb.insert(i,st)\n",
    "        i+=1\n",
    "        e.delete(0,END)\n",
    "\n",
    "    \n",
    "from tkinter import *\n",
    "root=Tk()\n",
    "root.geometry(\"400x400\")\n",
    "\n",
    "Label(root,text=\"Name: \",font=(\"Arial\",12,\"bold\")).grid(row=1,column=1)\n",
    "e=Entry(root)\n",
    "e.grid(row=1,column=2)\n",
    "\n",
    "Label(root,text=\"Gender: \",font=(\"Arial\",12,\"bold\")).grid(row=2,column=1)\n",
    "v=StringVar()\n",
    "v.set(\" \")\n",
    "Radiobutton(root,text=\"Male\",value=\"Male\",variable=v).grid(row=2,column=2)\n",
    "Radiobutton(root,text=\"Female\",value=\"Female\",variable=v).grid(row=2,column=3)\n",
    "\n",
    "Label(root,text=\"Records: \",font=(\"Arial\",12,\"bold\")).grid(row=3,column=1,sticky=N)\n",
    "lb=Listbox(root,bg=\"white\",width=30,height=10,relief=\"sunken\")\n",
    "lb.grid(row=3,column=2)\n",
    "\n",
    "Button(root,text=\"Close\",command=lambda:root.destroy()).grid(row=4,column=1)\n",
    "Button(root,text=\"Add\",command=add).grid(row=4,column=3)\n",
    "\n",
    "root.mainloop()\n"
   ]
  },
  {
   "cell_type": "code",
   "execution_count": null,
   "metadata": {},
   "outputs": [],
   "source": []
  },
  {
   "cell_type": "code",
   "execution_count": null,
   "metadata": {},
   "outputs": [],
   "source": []
  }
 ],
 "metadata": {
  "kernelspec": {
   "display_name": "Python 3",
   "language": "python",
   "name": "python3"
  },
  "language_info": {
   "codemirror_mode": {
    "name": "ipython",
    "version": 3
   },
   "file_extension": ".py",
   "mimetype": "text/x-python",
   "name": "python",
   "nbconvert_exporter": "python",
   "pygments_lexer": "ipython3",
   "version": "3.8.5"
  }
 },
 "nbformat": 4,
 "nbformat_minor": 4
}
