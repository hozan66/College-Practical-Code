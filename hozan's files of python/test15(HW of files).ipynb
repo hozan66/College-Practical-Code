{
 "cells": [
  {
   "cell_type": "code",
   "execution_count": 70,
   "metadata": {},
   "outputs": [],
   "source": [
    "#1-Write a program to count all numbers in a text file??"
   ]
  },
  {
   "cell_type": "code",
   "execution_count": 71,
   "metadata": {},
   "outputs": [
    {
     "name": "stdout",
     "output_type": "stream",
     "text": [
      "Overwriting textfile2.txt\n"
     ]
    }
   ],
   "source": [
    "%%writefile textfile2.txt\n",
    "20 is less than 25\n",
    "8 greater than 5\n",
    "9 is less than 999\n",
    "1000 is equal to 1000\n",
    "but 100 is not equal to 1000"
   ]
  },
  {
   "cell_type": "code",
   "execution_count": 72,
   "metadata": {},
   "outputs": [
    {
     "name": "stdout",
     "output_type": "stream",
     "text": [
      "20 is less than 25\n",
      "8 greater than 5\n",
      "9 is less than 999\n",
      "1000 is equal to 1000\n",
      "but 100 is not equal to 1000\n",
      "\n"
     ]
    }
   ],
   "source": [
    "with open(\"textfile2.txt\",\"r\") as o:\n",
    "    print(o.read())"
   ]
  },
  {
   "cell_type": "code",
   "execution_count": 73,
   "metadata": {},
   "outputs": [
    {
     "name": "stdout",
     "output_type": "stream",
     "text": [
      "['20', '25', '8', '5', '9', '999', '1000', '1000', '100', '1000']\n",
      "Count of numbers= 10\n"
     ]
    }
   ],
   "source": [
    "import re\n",
    "li=[]\n",
    "with open(\"textfile2.txt\",\"r\") as l:\n",
    "    s=l.read()\n",
    "    s=s.split()\n",
    "    for i in s:\n",
    "        if re.search(\"[0-9]\",i):\n",
    "            li.append(i)\n",
    "print(li)\n",
    "print(\"Count of numbers=\",len(li))"
   ]
  },
  {
   "cell_type": "code",
   "execution_count": 74,
   "metadata": {},
   "outputs": [],
   "source": [
    "#2-Write a program to print first,middle and last line in a text file??"
   ]
  },
  {
   "cell_type": "code",
   "execution_count": 75,
   "metadata": {},
   "outputs": [
    {
     "name": "stdout",
     "output_type": "stream",
     "text": [
      "first line:  20 is less than 25\n",
      "\n",
      "middle line:  9 is less than 999\n",
      "\n",
      "last line:  but 100 is not equal to 1000\n",
      "\n"
     ]
    }
   ],
   "source": [
    "with open(\"textfile2.txt\",\"r\") as l:\n",
    "    s=l.readlines()\n",
    "    n=len(s)\n",
    "print(\"first line: \",s[0])\n",
    "print(\"middle line: \",s[n//2])\n",
    "print(\"last line: \",s[n-1])"
   ]
  },
  {
   "cell_type": "code",
   "execution_count": 76,
   "metadata": {},
   "outputs": [],
   "source": [
    "#3-Write a program to replace all \"is\" word with \"are\" in a text file??"
   ]
  },
  {
   "cell_type": "code",
   "execution_count": 77,
   "metadata": {},
   "outputs": [
    {
     "name": "stdout",
     "output_type": "stream",
     "text": [
      "20 are less than 25\n",
      "8 greater than 5\n",
      "9 are less than 999\n",
      "1000 are equal to 1000\n",
      "but 100 are not equal to 1000\n",
      "\n"
     ]
    }
   ],
   "source": [
    "with open(\"textfile2.txt\",\"r\") as l:\n",
    "    newlines=[]\n",
    "    for i in l.readlines():\n",
    "        newlines.append(i.replace(\"is\",\"are\"))\n",
    "        \n",
    "with open(\"textfile2.txt\",\"w\") as l:\n",
    "    for i in newlines:\n",
    "        l.write(i)\n",
    "                \n",
    "with open(\"textfile2.txt\",\"r\") as l:\n",
    "    print(l.read())"
   ]
  },
  {
   "cell_type": "code",
   "execution_count": null,
   "metadata": {},
   "outputs": [],
   "source": []
  }
 ],
 "metadata": {
  "kernelspec": {
   "display_name": "Python 3",
   "language": "python",
   "name": "python3"
  },
  "language_info": {
   "codemirror_mode": {
    "name": "ipython",
    "version": 3
   },
   "file_extension": ".py",
   "mimetype": "text/x-python",
   "name": "python",
   "nbconvert_exporter": "python",
   "pygments_lexer": "ipython3",
   "version": "3.8.5"
  }
 },
 "nbformat": 4,
 "nbformat_minor": 4
}
