{
 "cells": [
  {
   "cell_type": "code",
   "execution_count": 13,
   "metadata": {},
   "outputs": [],
   "source": [
    "def submit():\n",
    "    user=e1.get()\n",
    "    password=e2.get()\n",
    "\n",
    "    connection=pyodbc.connect('Driver={SQL Server};'  \n",
    "                              'Server=HOZANPC;'\n",
    "                              'Database=userDB;'\n",
    "                              'Trusted_Connection=yes;')\n",
    "\n",
    "\n",
    "    cursorObject=connection.cursor()\n",
    "\n",
    "    query=cursorObject.execute(\"select * from userDB.dbo.users where userName=(?) and password=(?)\",(user,password))\n",
    "    if(query.fetchall)\n",
    "    \n",
    "    for r in query:\n",
    "        print(r)\n",
    "\n",
    "    connection.commit() \n",
    "    connection.close()\n",
    "\n",
    "from tkinter import *\n",
    "from tkinter import messagebox\n",
    "import pyodbc\n",
    "root=Tk()\n",
    "root.title(\"Login Form\")\n",
    "root.iconbitmap(r'login.ico')\n",
    "root.focus_force()\n",
    "root.config(bg=\"white\")\n",
    "\n",
    "f1=Frame(root,bg=\"white\")\n",
    "f1.pack(side=LEFT)\n",
    "\n",
    "f2=Frame(root,bg=\"white\")\n",
    "f2.pack(side=LEFT)\n",
    "\n",
    "p=PhotoImage(file=\"key.png\")\n",
    "Label(f1,image=p,bg=\"white\").pack(pady=30)\n",
    "\n",
    "Label(f2,text=\"Login\",font=(\"Century\",46,\"bold\"),bg=\"white\").pack(side=TOP,padx=60,pady=40)\n",
    "\n",
    "e1=Entry(f2,font=(\"Century\",16,\"bold\"),width=14,relief=SUNKEN,bg=\"#eb806c\")\n",
    "e1.pack(side=TOP)\n",
    "\n",
    "e2=Entry(f2,font=(\"Century\",16,\"bold\"),width=14,relief=SUNKEN,bg=\"#eb806c\")\n",
    "e2.pack(side=TOP,pady=20)\n",
    "\n",
    "c=PhotoImage(file=\"cancel.png\")\n",
    "ch=PhotoImage(file=\"checked.png\")\n",
    "\n",
    "Button(f2,image=c,command=lambda:root.destroy(),bg=\"white\",relief=FLAT).pack(side=LEFT,padx=45)\n",
    "Button(f2,image=ch,command=submit,bg=\"white\",relief=FLAT).pack(side=LEFT,pady=20)\n",
    "root.mainloop()"
   ]
  },
  {
   "cell_type": "code",
   "execution_count": null,
   "metadata": {},
   "outputs": [],
   "source": []
  },
  {
   "cell_type": "code",
   "execution_count": null,
   "metadata": {},
   "outputs": [],
   "source": []
  }
 ],
 "metadata": {
  "kernelspec": {
   "display_name": "Python 3",
   "language": "python",
   "name": "python3"
  },
  "language_info": {
   "codemirror_mode": {
    "name": "ipython",
    "version": 3
   },
   "file_extension": ".py",
   "mimetype": "text/x-python",
   "name": "python",
   "nbconvert_exporter": "python",
   "pygments_lexer": "ipython3",
   "version": "3.8.5"
  }
 },
 "nbformat": 4,
 "nbformat_minor": 4
}
