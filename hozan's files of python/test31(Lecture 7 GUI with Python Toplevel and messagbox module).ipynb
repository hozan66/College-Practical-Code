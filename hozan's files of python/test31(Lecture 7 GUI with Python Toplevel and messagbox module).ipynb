{
 "cells": [
  {
   "cell_type": "markdown",
   "metadata": {},
   "source": [
    "# Lecture 7 GUI with Python Toplevel and messagebox module"
   ]
  },
  {
   "cell_type": "code",
   "execution_count": 7,
   "metadata": {},
   "outputs": [
    {
     "name": "stdout",
     "output_type": "stream",
     "text": [
      "False\n"
     ]
    }
   ],
   "source": [
    "def f1():\n",
    "    v=messagebox.askretrycancel(\"Error Code\", \"Wrong Code\",default=\"cancel\",icon=\"error\",parent=nw)\n",
    "    print(v)\n",
    "    if v:        #if v==True\n",
    "        e.delete(0,END)\n",
    "    else:\n",
    "        r.destroy()\n",
    "\n",
    "def submit():\n",
    "    global nw\n",
    "    if e.get()==\"1122\":\n",
    "        nw=Toplevel()  #create a new window and its main job move from window to another\n",
    "        \n",
    "        nw.geometry(\"250x250+300+300\")\n",
    "        nw.title(\"Child\")\n",
    "        nw.focus_force()\n",
    "        Label(nw,text=\"Dashboard\").pack()\n",
    "        Button(nw,text=\"Check\",command=f1).pack()\n",
    "        nw.mainloop()\n",
    "    else: \n",
    "        #  messagebox.showerror(\"Error Code\", \"Wrong Code\")\n",
    "        v=messagebox.askretrycancel(\"Error Code\", \"Wrong Code\",default=\"cancel\",icon=\"error\")\n",
    "        print(v)\n",
    "        if v:        #if v==True\n",
    "            e.delete(0,END)\n",
    "        else:\n",
    "            r.destroy()\n",
    "\n",
    "from tkinter import *\n",
    "from tkinter import messagebox\n",
    "r=Tk()                 #Tk() used once\n",
    "r.geometry(\"300x300\")\n",
    "r.title(\"Main\")\n",
    "r.focus_force()\n",
    "\n",
    "Label(r,text=\"Enter Code\").pack()\n",
    "\n",
    "e=Entry(r)\n",
    "e.pack()\n",
    "\n",
    "Button(r,text=\"Submit\",command=submit).pack()\n",
    "\n",
    "r.mainloop()"
   ]
  },
  {
   "cell_type": "code",
   "execution_count": null,
   "metadata": {},
   "outputs": [],
   "source": []
  },
  {
   "cell_type": "code",
   "execution_count": null,
   "metadata": {},
   "outputs": [],
   "source": []
  }
 ],
 "metadata": {
  "kernelspec": {
   "display_name": "Python 3",
   "language": "python",
   "name": "python3"
  },
  "language_info": {
   "codemirror_mode": {
    "name": "ipython",
    "version": 3
   },
   "file_extension": ".py",
   "mimetype": "text/x-python",
   "name": "python",
   "nbconvert_exporter": "python",
   "pygments_lexer": "ipython3",
   "version": "3.8.5"
  }
 },
 "nbformat": 4,
 "nbformat_minor": 4
}
