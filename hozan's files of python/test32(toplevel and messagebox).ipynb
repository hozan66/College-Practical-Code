{
 "cells": [
  {
   "cell_type": "markdown",
   "metadata": {},
   "source": [
    "# Hozan"
   ]
  },
  {
   "cell_type": "code",
   "execution_count": 1,
   "metadata": {},
   "outputs": [],
   "source": [
    "def check(checktext):\n",
    "    # print(len(text_entry.get())\n",
    "    if len(checktext) < 6:\n",
    "        return True\n",
    "    else:\n",
    "        return False\n",
    "    \n",
    "from tkinter import *\n",
    "\n",
    "window = Tk()\n",
    "window.geometry(\"400x400+1200+400\")\n",
    "\n",
    "check_register = window.register(check)\n",
    "\n",
    "text_entry = Entry(window, validate = \"key\", validatecommand=(check_register, \"%P\"))\n",
    "text_entry.pack()\n",
    "\n",
    "window.mainloop()"
   ]
  },
  {
   "cell_type": "code",
   "execution_count": 1,
   "metadata": {},
   "outputs": [],
   "source": [
    "from tkinter import *\n",
    "from tkinter import messagebox\n",
    "\n",
    "def newwindow():\n",
    "    new_window = Toplevel()\n",
    "    new_window.geometry(\"400x400+1200+400\")\n",
    "    new_window.title(\"Hozan\")\n",
    "    \n",
    "def newmessage():\n",
    "    messagebox.askquestion(\"Usama\", \"Are you ok?\", default = \"yes\", icon = \"warning\")\n",
    "\n",
    "main = Tk()\n",
    "main.geometry(\"400x400+1200+400\")\n",
    "Button(text = \"Show next window\", command=newwindow).pack()\n",
    "Button(text = \"Show messagebox\", command=newmessage).pack()\n",
    "main.mainloop()"
   ]
  },
  {
   "cell_type": "code",
   "execution_count": 5,
   "metadata": {},
   "outputs": [
    {
     "name": "stdout",
     "output_type": "stream",
     "text": [
      "True\n",
      "False\n",
      "True\n",
      "no\n",
      "False\n",
      "True\n"
     ]
    }
   ],
   "source": [
    "from tkinter import *\n",
    "from tkinter import messagebox\n",
    "\n",
    "def newwindow():\n",
    "    global new_window\n",
    "    new_window = Toplevel()\n",
    "    new_window.geometry(\"400x400+1200+400\")\n",
    "    new_window.title(\"Hozan\")\n",
    "    new_window.focus_force()\n",
    "    Button(new_window, text = \"Show child?\", command=newchild).pack()\n",
    "\n",
    "    \n",
    "def newaskokcancel():\n",
    "    print(messagebox.askokcancel(\"Usama\", \"Ask ok or cancel?\", default = \"cancel\", icon = \"error\"))\n",
    "def newaskquestion():\n",
    "    print(messagebox.askquestion(\"Usama\", \"Ask question?\", default = \"no\"))    \n",
    "def newaskretrycancel():\n",
    "    print(messagebox.askretrycancel(\"Usama\", \"Ask retry cancel?\", default = \"cancel\"))    \n",
    "def newaskyesno():\n",
    "    print(messagebox.askyesno(\"Usama\", \"Ask yes no?\", default = \"no\"))    \n",
    "def newaskyesnocancel():\n",
    "    print(messagebox.askyesnocancel(\"Usama\", \"Ask yes no cancel?\", default = \"cancel\", icon = \"info\"))    \n",
    "def newchild():\n",
    "    print(messagebox.askretrycancel(\"Usama\", \"Ask yes no cancel?\", default = \"cancel\", icon = \"info\", parent = new_window))    \n",
    "\n",
    "    \n",
    "    \n",
    "main = Tk()\n",
    "main.geometry(\"400x400+900+350\")\n",
    "Button(text = \"Show next window\", command=newwindow).pack()\n",
    "main.focus_force()\n",
    "\n",
    "Button(text = \"Show askokcancel\", command=newaskokcancel).pack()\n",
    "Button(text = \"Show askquestion\", command=newaskquestion).pack()\n",
    "Button(text = \"Show askretrycancel\", command=newaskretrycancel).pack()\n",
    "Button(text = \"Show askyesno\", command=newaskyesno).pack()\n",
    "Button(text = \"Show askyesnocancel\", command=newaskyesnocancel).pack()\n",
    "main.mainloop()"
   ]
  },
  {
   "cell_type": "markdown",
   "metadata": {},
   "source": [
    "# Hozan"
   ]
  },
  {
   "cell_type": "code",
   "execution_count": null,
   "metadata": {},
   "outputs": [],
   "source": []
  }
 ],
 "metadata": {
  "kernelspec": {
   "display_name": "Python 3",
   "language": "python",
   "name": "python3"
  },
  "language_info": {
   "codemirror_mode": {
    "name": "ipython",
    "version": 3
   },
   "file_extension": ".py",
   "mimetype": "text/x-python",
   "name": "python",
   "nbconvert_exporter": "python",
   "pygments_lexer": "ipython3",
   "version": "3.8.5"
  }
 },
 "nbformat": 4,
 "nbformat_minor": 2
}
