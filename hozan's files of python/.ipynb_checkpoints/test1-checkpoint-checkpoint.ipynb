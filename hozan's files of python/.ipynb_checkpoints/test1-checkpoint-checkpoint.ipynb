{
 "cells": [
  {
   "cell_type": "code",
   "execution_count": 2,
   "metadata": {},
   "outputs": [
    {
     "name": "stdout",
     "output_type": "stream",
     "text": [
      "x: 5\n",
      "y: 3\n",
      "30\n"
     ]
    }
   ],
   "source": [
    "x=int(input(\"x: \"))\n",
    "y=int(input(\"y: \"))\n",
    "z=2*y+x**2-1\n",
    "print(z)"
   ]
  },
  {
   "cell_type": "code",
   "execution_count": 3,
   "metadata": {},
   "outputs": [
    {
     "name": "stdout",
     "output_type": "stream",
     "text": [
      "x: 2\n",
      "y: -2\n",
      "-1\n"
     ]
    }
   ],
   "source": [
    "x=int(input(\"x: \"))\n",
    "y=int(input(\"y: \"))\n",
    "z=2*y+x**2-1\n",
    "print(z)"
   ]
  },
  {
   "cell_type": "code",
   "execution_count": 9,
   "metadata": {},
   "outputs": [
    {
     "name": "stdout",
     "output_type": "stream",
     "text": [
      "this is 1 year\n",
      "this is 1 year\n",
      "this is 2 year\n",
      "this is 2 year\n",
      "this is 3 year\n",
      "this is 3 year\n"
     ]
    }
   ],
   "source": [
    "for i in range(3):\n",
    "    print(\"this is\",i+1,\"year\") #there are spaces by default\n",
    "    print(f'this is {i+1} year')\n",
    "    "
   ]
  },
  {
   "cell_type": "code",
   "execution_count": 10,
   "metadata": {},
   "outputs": [
    {
     "name": "stdout",
     "output_type": "stream",
     "text": [
      "this is 1 stage\n",
      "this is 1 year\n",
      "this is 2 stage\n",
      "this is 2 year\n",
      "this is 3 stage\n",
      "this is 3 year\n"
     ]
    }
   ],
   "source": [
    "s=\"123\"\n",
    "for i in s:\n",
    "    print(\"this is\",i,\"stage\")\n",
    "    print(f\"this is {i} year\")"
   ]
  },
  {
   "cell_type": "code",
   "execution_count": 43,
   "metadata": {},
   "outputs": [
    {
     "name": "stdout",
     "output_type": "stream",
     "text": [
      "t\n"
     ]
    }
   ],
   "source": [
    "x=2\n",
    "if x==3:\n",
    "    print(\"o\")\n",
    "else:\n",
    "    print(\"t\")"
   ]
  },
  {
   "cell_type": "code",
   "execution_count": 11,
   "metadata": {},
   "outputs": [
    {
     "name": "stdout",
     "output_type": "stream",
     "text": [
      "degree: 45\n",
      "extra pass\n"
     ]
    }
   ],
   "source": [
    "d=int(input(\"degree: \"))\n",
    "if d>=50:\n",
    "    print(\"pass\")\n",
    "elif 50>d>=45:\n",
    "    print(\"extra pass\")\n",
    "else:\n",
    "    print(\"fail\")\n",
    "   "
   ]
  },
  {
   "cell_type": "code",
   "execution_count": 15,
   "metadata": {},
   "outputs": [
    {
     "name": "stdout",
     "output_type": "stream",
     "text": [
      "y\n"
     ]
    }
   ],
   "source": [
    "x=True\n",
    "if -9:        #any number it consider true except 0       \n",
    "    print(\"y\")\n",
    "else:\n",
    "    print(\"n\")"
   ]
  },
  {
   "cell_type": "code",
   "execution_count": 51,
   "metadata": {},
   "outputs": [
    {
     "name": "stdout",
     "output_type": "stream",
     "text": [
      "3\n",
      "8\n",
      "19\n"
     ]
    }
   ],
   "source": [
    "x=[3,8,19]\n",
    "for i in x:\n",
    "    print(i)"
   ]
  },
  {
   "cell_type": "code",
   "execution_count": 53,
   "metadata": {},
   "outputs": [
    {
     "name": "stdout",
     "output_type": "stream",
     "text": [
      "hozan696ageed\n"
     ]
    }
   ],
   "source": [
    "print(\"hozan\",end=\"696\")\n",
    "print(\"ageed\")"
   ]
  },
  {
   "cell_type": "code",
   "execution_count": 16,
   "metadata": {},
   "outputs": [
    {
     "name": "stdout",
     "output_type": "stream",
     "text": [
      "hozan/ageed/farho$hozan696"
     ]
    }
   ],
   "source": [
    "print(\"hozan\",\"ageed\",\"farho\",sep=\"/\",end=\"$\")#separator space by default when we use comma\n",
    "print(\"hozan\",end=\"696\")"
   ]
  },
  {
   "cell_type": "code",
   "execution_count": 61,
   "metadata": {},
   "outputs": [
    {
     "name": "stdout",
     "output_type": "stream",
     "text": [
      "0\n",
      "1\n",
      "2\n",
      "3\n",
      "4\n",
      "5\n",
      "6\n",
      "7\n"
     ]
    }
   ],
   "source": [
    "for i in range(8):\n",
    "    print(i)"
   ]
  },
  {
   "cell_type": "code",
   "execution_count": 62,
   "metadata": {},
   "outputs": [
    {
     "name": "stdout",
     "output_type": "stream",
     "text": [
      "Event number: 30\n",
      "one\n",
      "two\n",
      "odd number: 33\n",
      "two\n",
      "Event number: 36\n",
      "one\n",
      "two\n",
      "odd number: 39\n",
      "two\n",
      "end\n"
     ]
    }
   ],
   "source": [
    "for j in range(30,40,3):\n",
    "    if j%2==0:\n",
    "        print(f'Event number: {j}')\n",
    "        print(\"one\")\n",
    "    else:\n",
    "        print(f'odd number: {j}')\n",
    "    print(\"two\")\n",
    "print(\"end\")"
   ]
  },
  {
   "cell_type": "code",
   "execution_count": 2,
   "metadata": {},
   "outputs": [
    {
     "name": "stdout",
     "output_type": "stream",
     "text": [
      "5050\n"
     ]
    }
   ],
   "source": [
    "s=0\n",
    "for i in range(101):\n",
    "    s+=i   #s=s+i\n",
    "print(s)"
   ]
  },
  {
   "cell_type": "code",
   "execution_count": 81,
   "metadata": {},
   "outputs": [
    {
     "name": "stdout",
     "output_type": "stream",
     "text": [
      "5050\n"
     ]
    }
   ],
   "source": [
    "l=list() #l=[]\n",
    "sm=0\n",
    "for i in range(101):\n",
    "    l.append(i)\n",
    "    sm+=l[i]\n",
    "print(sm)"
   ]
  },
  {
   "cell_type": "code",
   "execution_count": 17,
   "metadata": {},
   "outputs": [
    {
     "name": "stdout",
     "output_type": "stream",
     "text": [
      "5050\n"
     ]
    }
   ],
   "source": [
    "l=[]\n",
    "sm=0\n",
    "for i in list(range(101)):\n",
    "    sm+=i\n",
    "print(sm)"
   ]
  },
  {
   "cell_type": "code",
   "execution_count": 82,
   "metadata": {},
   "outputs": [
    {
     "name": "stdout",
     "output_type": "stream",
     "text": [
      "1\n",
      "2\n",
      "3\n",
      "4\n",
      "5\n",
      "6\n"
     ]
    }
   ],
   "source": [
    "g=[(1,2),(3,4),(5,6)]\n",
    "for i in g:\n",
    "    for j in i:\n",
    "        print(j)"
   ]
  },
  {
   "cell_type": "code",
   "execution_count": 20,
   "metadata": {},
   "outputs": [],
   "source": [
    "info={\"fName=>\":\"Hozan\",\"lName=>\":\"Ageed\",\"Age=>\":20,\"ID=>\":1012405}"
   ]
  },
  {
   "cell_type": "code",
   "execution_count": 21,
   "metadata": {},
   "outputs": [
    {
     "data": {
      "text/plain": [
       "{'fName=>': 'Hozan', 'lName=>': 'Ageed', 'Age=>': 20, 'ID=>': 1012405}"
      ]
     },
     "execution_count": 21,
     "metadata": {},
     "output_type": "execute_result"
    }
   ],
   "source": [
    "info"
   ]
  },
  {
   "cell_type": "code",
   "execution_count": 22,
   "metadata": {},
   "outputs": [
    {
     "name": "stdout",
     "output_type": "stream",
     "text": [
      "{'fName=>': 'Hozan', 'lName=>': 'Ageed', 'Age=>': 20, 'ID=>': 1012405}\n"
     ]
    }
   ],
   "source": [
    "print(info)"
   ]
  },
  {
   "cell_type": "code",
   "execution_count": 23,
   "metadata": {},
   "outputs": [
    {
     "name": "stdout",
     "output_type": "stream",
     "text": [
      "fName=>\n",
      "lName=>\n",
      "Age=>\n",
      "ID=>\n"
     ]
    }
   ],
   "source": [
    "for i in info:\n",
    "    print(i)"
   ]
  },
  {
   "cell_type": "code",
   "execution_count": 24,
   "metadata": {
    "scrolled": true
   },
   "outputs": [
    {
     "name": "stdout",
     "output_type": "stream",
     "text": [
      "Hozan\n",
      "Ageed\n",
      "20\n",
      "1012405\n"
     ]
    }
   ],
   "source": [
    "for i in info:\n",
    "    print(info[i])"
   ]
  },
  {
   "cell_type": "code",
   "execution_count": 27,
   "metadata": {},
   "outputs": [
    {
     "name": "stdout",
     "output_type": "stream",
     "text": [
      "Enter the hight: 4\n",
      "Enter the width: 8\n",
      "$$$$$$$$\n",
      "$$$$$$$$\n",
      "$$$$$$$$\n",
      "$$$$$$$$\n"
     ]
    }
   ],
   "source": [
    "h=int(input(\"Enter the hight: \"))\n",
    "w=int(input(\"Enter the width: \"))\n",
    "for i in range(h):\n",
    "    for j in range(w):\n",
    "        print(\"$\",end=\"\")\n",
    "    print(\"\")"
   ]
  },
  {
   "cell_type": "code",
   "execution_count": 10,
   "metadata": {},
   "outputs": [
    {
     "name": "stdout",
     "output_type": "stream",
     "text": [
      "Enter the Number: 5\n",
      "$$$$$\n",
      "$$$$$\n",
      "$$$$$\n",
      "$$$$$\n",
      "$$$$$\n"
     ]
    }
   ],
   "source": [
    "h=int(input(\"Enter the Number: \"))\n",
    "for i in range(h):\n",
    "    print(\"$\"*h)"
   ]
  },
  {
   "cell_type": "code",
   "execution_count": 28,
   "metadata": {},
   "outputs": [
    {
     "data": {
      "text/plain": [
       "'ngefr'"
      ]
     },
     "execution_count": 28,
     "metadata": {},
     "output_type": "execute_result"
    }
   ],
   "source": [
    "s=\"hozanageedfarho\"\n",
    "s[4:13:2]"
   ]
  },
  {
   "cell_type": "code",
   "execution_count": 29,
   "metadata": {},
   "outputs": [
    {
     "data": {
      "text/plain": [
       "{'Name': 'hozan', 'ID': 22.36, 'Age': 21}"
      ]
     },
     "execution_count": 29,
     "metadata": {},
     "output_type": "execute_result"
    }
   ],
   "source": [
    "d=dict(Name=\"hozan\",ID=22.36,Age=21)\n",
    "d"
   ]
  },
  {
   "cell_type": "code",
   "execution_count": 30,
   "metadata": {},
   "outputs": [
    {
     "data": {
      "text/plain": [
       "'1'"
      ]
     },
     "execution_count": 30,
     "metadata": {},
     "output_type": "execute_result"
    }
   ],
   "source": [
    "n=49\n",
    "sc=chr(n)\n",
    "sc"
   ]
  },
  {
   "cell_type": "code",
   "execution_count": 12,
   "metadata": {},
   "outputs": [
    {
     "data": {
      "text/plain": [
       "(21, 15, 7, 21)"
      ]
     },
     "execution_count": 12,
     "metadata": {},
     "output_type": "execute_result"
    }
   ],
   "source": [
    "z=(21,15,7,21)\n",
    "z.count(21)\n",
    "z"
   ]
  },
  {
   "cell_type": "code",
   "execution_count": 11,
   "metadata": {},
   "outputs": [
    {
     "data": {
      "text/plain": [
       "(21, 15, 7, 21)"
      ]
     },
     "execution_count": 11,
     "metadata": {},
     "output_type": "execute_result"
    }
   ],
   "source": [
    "z=(21,15,7,21)\n",
    "z.index(7)\n",
    "z"
   ]
  },
  {
   "cell_type": "code",
   "execution_count": 2,
   "metadata": {},
   "outputs": [
    {
     "data": {
      "text/plain": [
       "215.0"
      ]
     },
     "execution_count": 2,
     "metadata": {},
     "output_type": "execute_result"
    }
   ],
   "source": [
    "x=2e2+15\n",
    "x"
   ]
  },
  {
   "cell_type": "code",
   "execution_count": null,
   "metadata": {},
   "outputs": [],
   "source": []
  }
 ],
 "metadata": {
  "kernelspec": {
   "display_name": "Python 3",
   "language": "python",
   "name": "python3"
  },
  "language_info": {
   "codemirror_mode": {
    "name": "ipython",
    "version": 3
   },
   "file_extension": ".py",
   "mimetype": "text/x-python",
   "name": "python",
   "nbconvert_exporter": "python",
   "pygments_lexer": "ipython3",
   "version": "3.8.5"
  }
 },
 "nbformat": 4,
 "nbformat_minor": 4
}
