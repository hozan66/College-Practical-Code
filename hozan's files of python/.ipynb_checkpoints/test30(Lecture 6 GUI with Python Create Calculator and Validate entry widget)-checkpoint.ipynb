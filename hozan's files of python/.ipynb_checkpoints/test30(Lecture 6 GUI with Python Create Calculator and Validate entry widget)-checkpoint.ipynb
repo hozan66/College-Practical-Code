{
 "cells": [
  {
   "cell_type": "code",
   "execution_count": 2,
   "metadata": {},
   "outputs": [
    {
     "name": "stdout",
     "output_type": "stream",
     "text": [
      "1.0\n"
     ]
    }
   ],
   "source": [
    "s='22+4-5*10/2'\n",
    "print(eval(s))"
   ]
  },
  {
   "cell_type": "code",
   "execution_count": 3,
   "metadata": {},
   "outputs": [
    {
     "name": "stdout",
     "output_type": "stream",
     "text": [
      "27\n"
     ]
    }
   ],
   "source": [
    "s1='5*5+2'\n",
    "print(eval(s1))"
   ]
  },
  {
   "cell_type": "code",
   "execution_count": 50,
   "metadata": {},
   "outputs": [],
   "source": [
    "#Create calculator\n",
    "def stringFunction(y):\n",
    "    global stringConcat\n",
    "    stringConcat+=y\n",
    "    \n",
    "    i.set(stringConcat)\n",
    "    \n",
    "def equal():\n",
    "    global stringConcat\n",
    "    result=eval(stringConcat)\n",
    "    i.set(result)\n",
    "    stringConcat=str(result)\n",
    "\n",
    "def cancel():\n",
    "    global stringConcat\n",
    "    stringConcat=''\n",
    "    i.set('0')\n",
    "\n",
    "from tkinter import *\n",
    "stringConcat=\"\"\n",
    "r=Tk()\n",
    "# r.config(bg=\"#eee\")\n",
    "\n",
    "i=StringVar()\n",
    "i.set(0)\n",
    "l=Label(r,textvariable=i,font=(\"Arial\",24,\"bold\"),bg=\"#ddd\",width=14)\n",
    "l.grid(row=0,column=0,columnspan=4,pady=10)\n",
    "\n",
    "b7=Button(r,text=\"7\",font=(\"Arial\",16,\"bold\"),width=4,\n",
    "          overrelief=\"ridge\",bg=\"#ccc\",command=lambda:stringFunction(\"7\"),fg=\"white\")\n",
    "b7.grid(row=1,column=0)\n",
    "b8=Button(r,text=\"8\",font=(\"Arial\",16,\"bold\"),width=4,\n",
    "          overrelief=\"ridge\",bg=\"#ccc\",command=lambda:stringFunction(\"8\"),fg=\"white\")\n",
    "b8.grid(row=1,column=1)\n",
    "b9=Button(r,text=\"9\",font=(\"Arial\",16,\"bold\"),width=4,\n",
    "          overrelief=\"ridge\",bg=\"#ccc\",command=lambda:stringFunction(\"9\"),fg=\"white\")\n",
    "b9.grid(row=1,column=2)\n",
    "bcancel=Button(r,text=\"C\",font=(\"Arial\",16,\"bold\"),width=4,\n",
    "          overrelief=\"ridge\",bg=\"#ccc\",command=cancel,fg=\"white\")\n",
    "bcancel.grid(row=1,column=3)\n",
    "\n",
    "b4=Button(r,text=\"4\",font=(\"Arial\",16,\"bold\"),width=4,\n",
    "          overrelief=\"ridge\",bg=\"#ccc\",command=lambda:stringFunction(\"4\"),fg=\"white\")\n",
    "b4.grid(row=2,column=0)\n",
    "b5=Button(r,text=\"5\",font=(\"Arial\",16,\"bold\"),width=4,\n",
    "          overrelief=\"ridge\",bg=\"#ccc\",command=lambda:stringFunction(\"5\"),fg=\"white\")\n",
    "b5.grid(row=2,column=1)\n",
    "b6=Button(r,text=\"6\",font=(\"Arial\",16,\"bold\"),width=4,\n",
    "          overrelief=\"ridge\",bg=\"#ccc\",command=lambda:stringFunction(\"6\"),fg=\"white\")\n",
    "b6.grid(row=2,column=2)\n",
    "bdiv=Button(r,text=\"/\",font=(\"Arial\",16,\"bold\"),width=4,\n",
    "            overrelief=\"ridge\",bg=\"#ccc\",command=lambda:stringFunction(\"/\"),fg=\"white\")\n",
    "bdiv.grid(row=2,column=3)\n",
    "\n",
    "b1=Button(r,text=\"1\",font=(\"Arial\",16,\"bold\"),width=4,\n",
    "          overrelief=\"ridge\",bg=\"#ccc\",command=lambda:stringFunction(\"1\"),fg=\"white\")\n",
    "b1.grid(row=3,column=0)\n",
    "b2=Button(r,text=\"2\",font=(\"Arial\",16,\"bold\"),width=4,\n",
    "          overrelief=\"ridge\",bg=\"#ccc\",command=lambda:stringFunction(\"2\"),fg=\"white\")\n",
    "b2.grid(row=3,column=1)\n",
    "b3=Button(r,text=\"3\",font=(\"Arial\",16,\"bold\"),width=4,\n",
    "          overrelief=\"ridge\",bg=\"#ccc\",command=lambda:stringFunction(\"3\"),fg=\"white\")\n",
    "b3.grid(row=3,column=2)\n",
    "bmul=Button(r,text=\"x\",font=(\"Arial\",16,\"bold\"),width=4,\n",
    "            overrelief=\"ridge\",bg=\"#ccc\",command=lambda:stringFunction(\"*\"),fg=\"white\")\n",
    "bmul.grid(row=3,column=3)\n",
    "\n",
    "b0=Button(r,text=\"0\",font=(\"Arial\",16,\"bold\"),width=4,\n",
    "          overrelief=\"ridge\",bg=\"#ccc\",command=lambda:stringFunction(\"0\"),fg=\"white\")\n",
    "b0.grid(row=4,column=0)\n",
    "bdot=Button(r,text=\".\",font=(\"Arial\",16,\"bold\"),width=4,\n",
    "          overrelief=\"ridge\",bg=\"#ccc\",command=lambda:stringFunction(\".\"),fg=\"white\")\n",
    "bdot.grid(row=4,column=1)\n",
    "bplus=Button(r,text=\"+\",font=(\"Arial\",16,\"bold\"),width=4,\n",
    "          overrelief=\"ridge\",bg=\"#ccc\",command=lambda:stringFunction(\"+\"),fg=\"white\")\n",
    "bplus.grid(row=4,column=2)\n",
    "bminus=Button(r,text=\"-\",font=(\"Arial\",16,\"bold\"),width=4,\n",
    "            overrelief=\"ridge\",bg=\"#ccc\",command=lambda:stringFunction(\"-\"),fg=\"white\")\n",
    "bminus.grid(row=4,column=3)\n",
    "\n",
    "\n",
    "beq=Button(r,text=\"=\",font=(\"Arial\",16,\"bold\"),overrelief=\"ridge\",bg=\"#ccc\",command=equal,fg=\"white\",width=20)\n",
    "beq.grid(row=5,column=0,columnspan=4,pady=10)\n",
    "\n",
    "r.mainloop()"
   ]
  },
  {
   "cell_type": "code",
   "execution_count": 1,
   "metadata": {},
   "outputs": [],
   "source": [
    "#create Entry widget to allow user only enter number\n",
    "def checkNumberFunction(num):\n",
    "    if num.isdigit():\n",
    "        return True\n",
    "    else:\n",
    "        return False\n",
    "    \n",
    "\n",
    "from tkinter import *\n",
    "r=Tk()\n",
    "r.geometry(\"200x200\")\n",
    "\n",
    "reg=r.register(checkNumberFunction)\n",
    "\n",
    "Entry(r,validate=\"key\",validatecommand=(reg,\"%P\")).place(x=50,y=50)\n",
    "\n",
    "r.mainloop()"
   ]
  },
  {
   "cell_type": "code",
   "execution_count": 2,
   "metadata": {},
   "outputs": [],
   "source": [
    "#HW\n",
    "#create Entry widget to allow user only enter string\n",
    "\n",
    "def checkNumberFunction(num):\n",
    "    if num.isalpha():\n",
    "        return True\n",
    "    else:\n",
    "        return False\n",
    "        \n",
    "\n",
    "from tkinter import *\n",
    "r=Tk()\n",
    "r.geometry(\"200x200\")\n",
    "\n",
    "reg=r.register(checkNumberFunction)\n",
    "\n",
    "Entry(r,validate=\"key\",validatecommand=(reg,\"%P\")).place(x=50,y=50)\n",
    "\n",
    "r.mainloop()"
   ]
  },
  {
   "cell_type": "code",
   "execution_count": null,
   "metadata": {},
   "outputs": [],
   "source": [
    "#limit Entry to max 6 characters"
   ]
  },
  {
   "cell_type": "code",
   "execution_count": 2,
   "metadata": {},
   "outputs": [],
   "source": [
    "#HW\n",
    "#limit Entry to max 6 characters\n",
    "\n",
    "#HW\n",
    "#create Entry widget to allow user only enter string\n",
    "\n",
    "def checkNumberFunction(y):  #y will recieve %P\n",
    "    if len(y) < 7:\n",
    "        return True\n",
    "    else:\n",
    "        return False\n",
    "        \n",
    "\n",
    "from tkinter import *\n",
    "r=Tk()\n",
    "r.geometry(\"200x200\")\n",
    "\n",
    "reg=r.register(checkNumberFunction)\n",
    "\n",
    "#will update Entry input each time you entered\n",
    "Entry(r,validate=\"key\",validatecommand=(reg,\"%P\")).place(x=50,y=50)\n",
    "\n",
    "r.mainloop()"
   ]
  },
  {
   "cell_type": "code",
   "execution_count": null,
   "metadata": {},
   "outputs": [],
   "source": []
  }
 ],
 "metadata": {
  "kernelspec": {
   "display_name": "Python 3",
   "language": "python",
   "name": "python3"
  },
  "language_info": {
   "codemirror_mode": {
    "name": "ipython",
    "version": 3
   },
   "file_extension": ".py",
   "mimetype": "text/x-python",
   "name": "python",
   "nbconvert_exporter": "python",
   "pygments_lexer": "ipython3",
   "version": "3.8.5"
  }
 },
 "nbformat": 4,
 "nbformat_minor": 4
}
