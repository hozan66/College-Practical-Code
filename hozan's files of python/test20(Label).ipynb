{
 "cells": [
  {
   "cell_type": "code",
   "execution_count": 2,
   "metadata": {},
   "outputs": [],
   "source": [
    "from tkinter import *\n",
    "r=Tk()\n",
    "\n",
    "p=PhotoImage(file=\"sport.png\")  #it must be .png    if there is any path we have to use double back slash\n",
    "#height=4 ==> number of lines\n",
    "#width=4 ==> number of characters\n",
    "#compound used to display both text and image\n",
    "#compound=\"bottom\" ==> image will go to the bottom\n",
    "l1=Label(r,text=\"Hello\\nWorld\",image=p,compound=\"bottom\",\n",
    "         bg=\"#d8d844\",fg=\"red\",relief=\"raised\",bd=6)   #bd(borderwidth works with relief)\n",
    "l1.pack()  #used to display (call) widget\n",
    "\n",
    "r.mainloop()\n"
   ]
  },
  {
   "cell_type": "code",
   "execution_count": 1,
   "metadata": {},
   "outputs": [],
   "source": [
    "from tkinter import *\n",
    "r=Tk()\n",
    "\n",
    "l1=Label(r,text=\"Hello\\nWorld\\nComputer Science Department Salahiddin University\",font=(\"Arial\",14,\"underline\"),\n",
    "         bg=\"#d8d844\",fg=\"red\",relief=\"raised\",bd=16,justify=\"right\",pady=100,padx=100)   \n",
    "l1.pack()\n",
    "\n",
    "r.mainloop()\n"
   ]
  },
  {
   "cell_type": "code",
   "execution_count": 6,
   "metadata": {},
   "outputs": [],
   "source": [
    "def f():                     #we have to create function first              \n",
    "    l1.config(bg=\"pink\")\n",
    "\n",
    "from tkinter import *\n",
    "r=Tk()\n",
    "\n",
    "l1=Label(r,text=\"Hello\\nWorld\\nComputer Science Department Salahiddin University\",underline=6,font=(\"Arial\",14),\n",
    "         bg=\"#d8d844\",fg=\"red\",relief=\"raised\",bd=16,justify=\"right\",pady=100,padx=100)   \n",
    "\n",
    "\n",
    "b=Button(r,text=\"Button\",font=(\"Arial\",14),command=f)\n",
    "b.pack()\n",
    "l1.pack()\n",
    "\n",
    "r.mainloop()\n"
   ]
  },
  {
   "cell_type": "code",
   "execution_count": 8,
   "metadata": {},
   "outputs": [],
   "source": [
    "def f():\n",
    "    l1.config(text=\"Anaconda\",bg=\"green\")\n",
    "\n",
    "from tkinter import *\n",
    "r=Tk()\n",
    "\n",
    "l1=Label(text=\"Hello\\nWorld\\nComputer Science Department Salahiddin University\",underline=6,font=(\"Arial\",14),\n",
    "         bg=\"#d8d844\",fg=\"red\",relief=\"raised\",bd=16,justify=\"right\",pady=100,padx=100)   \n",
    "\n",
    "\n",
    "b=Button(r,text=\"Button\",font=(\"Arial\",14),command=f)\n",
    "b.pack()\n",
    "l1.pack()\n",
    "\n",
    "r.mainloop()\n"
   ]
  },
  {
   "cell_type": "code",
   "execution_count": 3,
   "metadata": {},
   "outputs": [],
   "source": [
    "def f():\n",
    "    a.set(\"Anaconda\")\n",
    "    n.set(\"Two\")\n",
    "\n",
    "from tkinter import *\n",
    "r=Tk()\n",
    "\n",
    "a=StringVar()              #work with text variable\n",
    "a.set(\"Hello There!\")\n",
    "l1=Label(text=\"Hello\\nWorld\\nComputer Science Department Salahiddin University\",underline=6,font=(\"Arial\",14),\n",
    "         bg=\"#d8d844\",fg=\"red\",relief=\"raised\",bd=16,justify=\"right\",pady=100,padx=100,textvariable=a)   \n",
    "\n",
    "\n",
    "n=StringVar()\n",
    "n.set(\"One\")\n",
    "b=Button(r,text=\"Button\",textvariable=n,font=(\"Arial\",14),overrelief=\"ridge\",command=f)\n",
    "b.pack()\n",
    "l1.pack()\n",
    "\n",
    "r.mainloop()\n"
   ]
  },
  {
   "cell_type": "code",
   "execution_count": null,
   "metadata": {},
   "outputs": [],
   "source": []
  },
  {
   "cell_type": "code",
   "execution_count": null,
   "metadata": {},
   "outputs": [],
   "source": []
  }
 ],
 "metadata": {
  "kernelspec": {
   "display_name": "Python 3",
   "language": "python",
   "name": "python3"
  },
  "language_info": {
   "codemirror_mode": {
    "name": "ipython",
    "version": 3
   },
   "file_extension": ".py",
   "mimetype": "text/x-python",
   "name": "python",
   "nbconvert_exporter": "python",
   "pygments_lexer": "ipython3",
   "version": "3.8.5"
  }
 },
 "nbformat": 4,
 "nbformat_minor": 4
}
