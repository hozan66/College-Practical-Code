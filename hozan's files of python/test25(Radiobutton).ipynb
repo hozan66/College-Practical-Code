{
 "cells": [
  {
   "cell_type": "code",
   "execution_count": 1,
   "metadata": {},
   "outputs": [],
   "source": [
    "from tkinter import *\n",
    "root=Tk()\n",
    "root.geometry(\"400x400\")\n",
    "\n",
    "v=StringVar()\n",
    "v.set(\"black\")\n",
    "#We use lambda inside (command) to call function that consists a single line of code\n",
    "#we link all Radiobuttons to become one group by using only one variable (v)\n",
    "\n",
    "Radiobutton(root,text=\"White\",variable=v,value=\"white\",command=lambda: root.config(bg=v.get())).pack()\n",
    "Radiobutton(root,text=\"Tomato\",variable=v,value=\"tomato\",command=lambda: root.config(bg=v.get())).pack()\n",
    "Radiobutton(root,text=\"Hot Pink\",variable=v,value=\"hot pink\",command=lambda: root.config(bg=v.get())).pack()\n",
    "Radiobutton(root,text=\"Orange\",variable=v,value=\"orange\",command=lambda: root.config(bg=v.get())).pack()\n",
    "\n",
    "\n",
    "root.mainloop()"
   ]
  },
  {
   "cell_type": "code",
   "execution_count": 3,
   "metadata": {},
   "outputs": [],
   "source": [
    "from tkinter import *\n",
    "root=Tk()\n",
    "root.geometry(\"400x400\")\n",
    "\n",
    "p1=PhotoImage(file=\"l1.png\")\n",
    "p2=PhotoImage(file=\"l2.png\")\n",
    "p3=PhotoImage(file=\"l3.png\")\n",
    "\n",
    "v=IntVar()\n",
    "v.set(0)\n",
    "Label(root,font=(\"Arial\",24,\"bold\"),textvariable=v).pack()\n",
    "\n",
    "Radiobutton(root,image=p1,variable=v,value=1).pack()\n",
    "Radiobutton(root,image=p2,variable=v,value=2).pack()\n",
    "Radiobutton(root,image=p3,variable=v,value=3).pack()\n",
    "\n",
    "\n",
    "root.mainloop()"
   ]
  },
  {
   "cell_type": "code",
   "execution_count": 4,
   "metadata": {},
   "outputs": [],
   "source": [
    "from tkinter import *\n",
    "root=Tk()\n",
    "root.geometry(\"400x400\")\n",
    "\n",
    "p1=PhotoImage(file=\"l1.png\")\n",
    "p2=PhotoImage(file=\"l2.png\")\n",
    "p3=PhotoImage(file=\"l3.png\")\n",
    "\n",
    "v=IntVar()\n",
    "v.set(0)\n",
    "Label(root,font=(\"Arial\",24,\"bold\"),textvariable=v).pack()\n",
    "\n",
    "#off ==> image=p1\n",
    "#on ==> selectimage=p2  when we click\n",
    "Radiobutton(root,image=p1,variable=v,value=1,selectimage=p2).pack()\n",
    "Radiobutton(root,image=p2,variable=v,value=2,selectcolor=\"red\").pack()\n",
    "Radiobutton(root,image=p3,variable=v,value=3).pack()\n",
    "\n",
    "\n",
    "root.mainloop()"
   ]
  },
  {
   "cell_type": "code",
   "execution_count": 5,
   "metadata": {},
   "outputs": [],
   "source": [
    "from tkinter import *\n",
    "root=Tk()\n",
    "root.geometry(\"400x400\")\n",
    "\n",
    "#side=\"top\"  by default\n",
    "#anchor=\"center\"  by default\n",
    "Label(root,text=\"Hello\",font=(\"Arial\",24,\"bold\"),bg=\"orange\").pack(side=\"top\",fill=X) #by default it will take the whole row of top\n",
    "Label(root,text=\"Hi!\",font=(\"Arial\",24,\"bold\"),bg=\"light blue\").pack(anchor=W) #fill and anchor can not work with each other\n",
    "Label(root,text=\"LEFT\",font=(\"Arial\",24,\"bold\"),bg=\"pink\").pack(side=\"left\",fill=Y)\n",
    "Label(root,text=\"RIGHT\",font=(\"Arial\",24,\"bold\"),bg=\"red\").pack(side=\"right\",fill=Y)\n",
    "Label(root,text=\"BOTTOM\",font=(\"Arial\",24,\"bold\"),bg=\"yellow\").pack(side=\"bottom\",fill=X)\n",
    "\n",
    "\n",
    "root.mainloop()"
   ]
  },
  {
   "cell_type": "code",
   "execution_count": 6,
   "metadata": {},
   "outputs": [],
   "source": [
    "from tkinter import *\n",
    "root=Tk()\n",
    "root.geometry(\"400x400\")\n",
    "\n",
    "Label(root,text=\"Hello\",font=(\"Arial\",24,\"bold\"),bg=\"orange\").pack(side=\"top\",fill=X) \n",
    "Label(root,text=\"Hi!\",font=(\"Arial\",24,\"bold\"),bg=\"light blue\").pack(fill=X,pady=10) \n",
    "Label(root,text=\"LEFT\",font=(\"Arial\",24,\"bold\"),bg=\"pink\").pack(side=\"left\",fill=Y)\n",
    "Label(root,text=\"RIGHT\",font=(\"Arial\",24,\"bold\"),bg=\"red\").pack(side=\"right\",fill=Y)\n",
    "Label(root,text=\"BOTTOM\",font=(\"Arial\",24,\"bold\"),bg=\"yellow\").pack(side=\"bottom\",fill=X)\n",
    "\n",
    "\n",
    "root.mainloop()"
   ]
  },
  {
   "cell_type": "code",
   "execution_count": 7,
   "metadata": {},
   "outputs": [],
   "source": [
    "from tkinter import *\n",
    "root=Tk()\n",
    "root.geometry(\"400x400\")\n",
    "\n",
    "Label(root,text=\"Hello\",font=(\"Arial\",24,\"bold\"),bg=\"orange\").pack(side=\"top\",fill=X) \n",
    "Label(root,text=\"Hi!\",font=(\"Arial\",24,\"bold\"),bg=\"light blue\").pack(fill=X,pady=10) \n",
    "Label(root,text=\"LEFT\",font=(\"Arial\",24,\"bold\"),bg=\"pink\").pack(side=\"left\",fill=Y)\n",
    "Label(root,text=\"RIGHT\",font=(\"Arial\",24,\"bold\"),bg=\"red\").pack(side=\"right\",fill=Y)\n",
    "Label(root,text=\"BOTTOM\",font=(\"Arial\",24,\"bold\"),bg=\"yellow\").pack(side=\"bottom\",fill=X,padx=10,ipadx=40,ipady=40)\n",
    "\n",
    "\n",
    "root.mainloop()"
   ]
  },
  {
   "cell_type": "code",
   "execution_count": 10,
   "metadata": {},
   "outputs": [],
   "source": [
    "from tkinter import *\n",
    "root=Tk()\n",
    "root.geometry(\"400x400\")\n",
    "\n",
    "#in grid() each widget in its cell take width and height according to the content just like Excel\n",
    "Label(root,text=\"Hello\",font=(\"Arial\",24,\"bold\"),bg=\"orange\",height=4).grid(row=1,column=1)\n",
    "Label(root,text=\"Hi\",font=(\"Arial\",24,\"bold\"),bg=\"yellow\").grid(row=1,column=2,sticky=N)\n",
    "Label(root,text=\"computer\",font=(\"Arial\",24,\"bold\"),bg=\"pink\").grid(row=2,column=1)     \n",
    "\n",
    "\n",
    "root.mainloop()"
   ]
  },
  {
   "cell_type": "code",
   "execution_count": 11,
   "metadata": {},
   "outputs": [],
   "source": [
    "from tkinter import *\n",
    "root=Tk()\n",
    "root.geometry(\"400x400\")\n",
    "\n",
    "#in grid() each widget in its cell take width and height according to the content just like Excel\n",
    "Label(root,text=\"Hello\",font=(\"Arial\",24,\"bold\"),bg=\"orange\",height=4).grid(row=1,column=1,sticky=W)\n",
    "Label(root,text=\"Hi\",font=(\"Arial\",24,\"bold\"),bg=\"yellow\").grid(row=1,column=2,sticky=N)\n",
    "Label(root,text=\"computer\",font=(\"Arial\",24,\"bold\"),bg=\"pink\").grid(row=2,column=1)     \n",
    "\n",
    "\n",
    "root.mainloop()"
   ]
  },
  {
   "cell_type": "code",
   "execution_count": 13,
   "metadata": {},
   "outputs": [],
   "source": [
    "from tkinter import *\n",
    "root=Tk()\n",
    "root.geometry(\"400x400\")\n",
    "\n",
    "Label(root,text=\"Hello ffffffffff\",font=(\"Arial\",24,\"bold\"),bg=\"orange\").grid(row=1,column=1,columnspan=3)\n",
    "Label(root,text=\"Hi\",font=(\"Arial\",24,\"bold\"),bg=\"yellow\").grid(row=1,column=4,sticky=N)\n",
    "Label(root,text=\"computer computer2\",font=(\"Arial\",24,\"bold\"),bg=\"pink\").grid(row=2,column=1)     \n",
    "\n",
    "\n",
    "root.mainloop()"
   ]
  },
  {
   "cell_type": "code",
   "execution_count": 14,
   "metadata": {},
   "outputs": [],
   "source": [
    "from tkinter import *\n",
    "root=Tk()\n",
    "root.geometry(\"400x400\")\n",
    "\n",
    "Label(root,text=\"Table\",font=(\"Arial\",24,\"bold\"),bg=\"orange\").place(x=100,y=100)     \n",
    "Label(root,text=\"Computer\",font=(\"Arial\",24,\"bold\"),bg=\"pink\").place(x=200,y=200) \n",
    "\n",
    "root.mainloop()"
   ]
  },
  {
   "cell_type": "code",
   "execution_count": 15,
   "metadata": {},
   "outputs": [],
   "source": [
    "from tkinter import *\n",
    "root=Tk()\n",
    "root.geometry(\"400x400\")\n",
    "\n",
    "Label(root,text=\"Table\",font=(\"Arial\",24,\"bold\"),bg=\"orange\").place(x=100,y=100)     \n",
    "Label(root,text=\"Computer\",font=(\"Arial\",24,\"bold\"),bg=\"pink\").place(x=120,y=120) \n",
    "\n",
    "root.mainloop()"
   ]
  },
  {
   "cell_type": "code",
   "execution_count": 16,
   "metadata": {},
   "outputs": [],
   "source": [
    "from tkinter import *\n",
    "root=Tk()\n",
    "root.geometry(\"600x400\")\n",
    " \n",
    "p=PhotoImage(file=\"cat.png\")\n",
    "pp=PhotoImage(file=\"close.png\")\n",
    "\n",
    "Label(root,image=p).place(x=0,y=0)\n",
    "#(destroy()) will close the window\n",
    "Button(root,image=pp,command=lambda: root.destroy()).place(x=100,y=100)\n",
    "\n",
    "root.mainloop()"
   ]
  },
  {
   "cell_type": "code",
   "execution_count": null,
   "metadata": {},
   "outputs": [],
   "source": []
  }
 ],
 "metadata": {
  "kernelspec": {
   "display_name": "Python 3",
   "language": "python",
   "name": "python3"
  },
  "language_info": {
   "codemirror_mode": {
    "name": "ipython",
    "version": 3
   },
   "file_extension": ".py",
   "mimetype": "text/x-python",
   "name": "python",
   "nbconvert_exporter": "python",
   "pygments_lexer": "ipython3",
   "version": "3.8.5"
  }
 },
 "nbformat": 4,
 "nbformat_minor": 4
}
