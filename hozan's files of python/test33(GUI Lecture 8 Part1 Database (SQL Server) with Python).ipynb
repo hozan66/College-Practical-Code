{
 "cells": [
  {
   "cell_type": "code",
   "execution_count": 1,
   "metadata": {},
   "outputs": [
    {
     "ename": "OperationalError",
     "evalue": "('08001', '[08001] [Microsoft][ODBC SQL Server Driver]Neither DSN nor SERVER keyword supplied (0) (SQLDriverConnect); [08001] [Microsoft][ODBC SQL Server Driver]Invalid connection string attribute (0)')",
     "output_type": "error",
     "traceback": [
      "\u001b[1;31m---------------------------------------------------------------------------\u001b[0m",
      "\u001b[1;31mOperationalError\u001b[0m                          Traceback (most recent call last)",
      "\u001b[1;32m<ipython-input-1-6c1f197cf3f7>\u001b[0m in \u001b[0;36m<module>\u001b[1;34m\u001b[0m\n\u001b[0;32m      4\u001b[0m \u001b[1;31m#create database connection\u001b[0m\u001b[1;33m\u001b[0m\u001b[1;33m\u001b[0m\u001b[1;33m\u001b[0m\u001b[0m\n\u001b[0;32m      5\u001b[0m \u001b[1;33m\u001b[0m\u001b[0m\n\u001b[1;32m----> 6\u001b[1;33m connection=pyodbc.connect('Driver={SQL Server};' #can connect with all types (services) of MicroSoft\n\u001b[0m\u001b[0;32m      7\u001b[0m                           \u001b[1;34m'Serve=Server Name;'\u001b[0m\u001b[1;33m\u001b[0m\u001b[1;33m\u001b[0m\u001b[0m\n\u001b[0;32m      8\u001b[0m                           \u001b[1;34m'Database=Database Name;'\u001b[0m\u001b[1;33m\u001b[0m\u001b[1;33m\u001b[0m\u001b[0m\n",
      "\u001b[1;31mOperationalError\u001b[0m: ('08001', '[08001] [Microsoft][ODBC SQL Server Driver]Neither DSN nor SERVER keyword supplied (0) (SQLDriverConnect); [08001] [Microsoft][ODBC SQL Server Driver]Invalid connection string attribute (0)')"
     ]
    }
   ],
   "source": [
    "#1- connect to database\n",
    "\n",
    "import pyodbc    #stands for python open database connection\n",
    "#create database connection\n",
    "\n",
    "connection=pyodbc.connect('Driver={SQL Server};' #can connect with all types (services) of MicroSoft\n",
    "                          'Serve=Server Name;'\n",
    "                          'Database=Database Name;'\n",
    "                          'Trusted_Connection=yes;')\n",
    "\n",
    "#create cursor object for transaction(retrive records or change records)\n",
    "cursorObject=connection.cursor()\n",
    "\n",
    "#execute sql command (execute transaction)\n",
    "query=cursorObject.execute('SQL Command')\n",
    "\n",
    "#get all query result (transaction result)\n",
    "query.fetchall() #return array of tuple\n",
    "\n",
    "#end your current transaction and make permanent all performed in the transaction.\n",
    "connection.commit() #for save\n",
    "\n",
    "#close database connection\n",
    "connection.close()"
   ]
  },
  {
   "cell_type": "code",
   "execution_count": 1,
   "metadata": {},
   "outputs": [],
   "source": [
    "import pyodbc\n",
    "\n",
    "connection=pyodbc.connect('Driver={SQL Server};'  \n",
    "                          'Server=HOZANPC;'\n",
    "                          'Database=FoodCompany;'\n",
    "                          'Trusted_Connection=yes;')\n",
    "\n",
    "\n",
    "cursorObject=connection.cursor()\n",
    "\n",
    "# query=cursorObject.execute('SQL Command')\n",
    "\n",
    "# query.fetchall()\n",
    "\n",
    "connection.commit() \n",
    "\n",
    "connection.close()"
   ]
  },
  {
   "cell_type": "code",
   "execution_count": 2,
   "metadata": {},
   "outputs": [
    {
     "name": "stdout",
     "output_type": "stream",
     "text": [
      "<pyodbc.Cursor object at 0x000001CFCF1A08B0>\n",
      "('hozan', 29900000, 'computer science')\n",
      "('Hamdin', 1200000, 'Mechanic')\n"
     ]
    }
   ],
   "source": [
    "import pyodbc\n",
    "\n",
    "connection=pyodbc.connect('Driver={SQL Server};'  \n",
    "                          'Server=HOZANPC;'\n",
    "                          'Database=FoodCompany;'\n",
    "                          'Trusted_Connection=yes;')\n",
    "\n",
    "\n",
    "cursorObject=connection.cursor()\n",
    "\n",
    "query=cursorObject.execute('select * from FoodCompany.dbo.emp')\n",
    "print(query)\n",
    "\n",
    "for r in query:\n",
    "    print(r)\n",
    "\n",
    "# query.fetchall()\n",
    "\n",
    "connection.commit() \n",
    "\n",
    "connection.close()"
   ]
  },
  {
   "cell_type": "code",
   "execution_count": 2,
   "metadata": {},
   "outputs": [
    {
     "name": "stdout",
     "output_type": "stream",
     "text": [
      "Enter Name: nor\n",
      "Enter Salary: 25555\n",
      "Enter Dep: dfsdfsdd\n"
     ]
    }
   ],
   "source": [
    "import pyodbc\n",
    "\n",
    "connection=pyodbc.connect('Driver={SQL Server};'\n",
    "                          'Server=HOZANPC;'\n",
    "                          'Database=FoodCompany;'\n",
    "                          'Trusted_Connection=yes;')\n",
    "\n",
    "\n",
    "cursorObject=connection.cursor()\n",
    "\n",
    "name=input(\"Enter Name: \")\n",
    "Salary=int(input(\"Enter Salary: \"))\n",
    "dep=input(\"Enter Dep: \")\n",
    "\n",
    "#if we use more than one line \n",
    "#we must use triple qoutation\n",
    "sqlcommand=('''insert into FoodCompany.dbo.emp(Emp_Name,Emp_Salary,Emp_Dep)\n",
    "                                   values\n",
    "                                   (?,?,?)''')\n",
    "\n",
    "query=cursorObject.execute(sqlcommand,(name,Salary,dep))\n",
    "\n",
    "# query.fetchall()\n",
    "\n",
    "connection.commit() \n",
    "\n",
    "connection.close()"
   ]
  },
  {
   "cell_type": "code",
   "execution_count": 4,
   "metadata": {},
   "outputs": [],
   "source": [
    "import pyodbc\n",
    "\n",
    "connection=pyodbc.connect('Driver={SQL Server};'  \n",
    "                          'Server=HOZANPC;'\n",
    "                          'Database=FoodCompany;'\n",
    "                          'Trusted_Connection=yes;')\n",
    "\n",
    "\n",
    "cursorObject=connection.cursor()\n",
    "\n",
    "query=cursorObject.execute(\"delete from FoodCompany.dbo.emp where Emp_Name='nor'\")\n",
    "\n",
    "# query.fetchall()\n",
    "\n",
    "connection.commit()\n",
    "\n",
    "connection.close()"
   ]
  },
  {
   "cell_type": "code",
   "execution_count": 15,
   "metadata": {},
   "outputs": [
    {
     "name": "stdout",
     "output_type": "stream",
     "text": [
      "('hozan', 1500000, 'computer science')\n"
     ]
    }
   ],
   "source": [
    "import pyodbc\n",
    "\n",
    "connection=pyodbc.connect('Driver={SQL Server};'  \n",
    "                          'Server=HOZANPC;'\n",
    "                          'Database=FoodCompany;'\n",
    "                          'Trusted_Connection=yes;')\n",
    "\n",
    "\n",
    "cursorObject=connection.cursor()\n",
    "\n",
    "query=cursorObject.execute(\"select * from FoodCompany.dbo.emp where Emp_Salary > 1200000\")\n",
    "\n",
    "for r in query:\n",
    "    print(r)\n",
    "\n",
    "# query.fetchall()\n",
    "\n",
    "connection.commit() \n",
    "\n",
    "connection.close()"
   ]
  },
  {
   "cell_type": "code",
   "execution_count": 6,
   "metadata": {},
   "outputs": [],
   "source": [
    "import pyodbc\n",
    "\n",
    "connection=pyodbc.connect('Driver={SQL Server};'  \n",
    "                          'Server=HOZANPC;'\n",
    "                          'Database=FoodCompany;'\n",
    "                          'Trusted_Connection=yes;')\n",
    "\n",
    "\n",
    "cursorObject=connection.cursor()\n",
    "\n",
    "query=cursorObject.execute(\"update FoodCompany.dbo.emp set Emp_Salary=29900000 where Emp_Name='hozan'\")\n",
    "\n",
    "# for r in query:\n",
    "#     print(r)\n",
    "\n",
    "connection.commit() \n",
    "\n",
    "connection.close()"
   ]
  },
  {
   "cell_type": "code",
   "execution_count": 4,
   "metadata": {},
   "outputs": [
    {
     "name": "stdout",
     "output_type": "stream",
     "text": [
      "('hozan', 29900000, 'computer science')\n",
      "('Hamdin', 1200000, 'Mechanic')\n"
     ]
    }
   ],
   "source": [
    "import pyodbc\n",
    "\n",
    "conn=pyodbc.connect('Driver={SQL Server};'\n",
    "                    'Server=HOZANPC;'\n",
    "                    'Database=FoodCompany;'\n",
    "                    'Trusted_Connection=yes;')\n",
    "c=conn.cursor()\n",
    "q=c.execute('select *from FoodCompany.dbo.emp')\n",
    "for i in q:\n",
    "    print(i)\n",
    "conn.commit()\n",
    "conn.close()\n",
    "\n"
   ]
  },
  {
   "cell_type": "code",
   "execution_count": 7,
   "metadata": {},
   "outputs": [],
   "source": [
    "import pyodbc\n",
    "\n",
    "conn=pyodbc.connect('Driver={SQL Server};'\n",
    "                    'Server=HOZANPC;'\n",
    "                    'Database=FoodCompany;'\n",
    "                    'Trusted_Connection=yes;')\n",
    "c=conn.cursor()\n",
    "c.execute(\"delete from FoodCompany.dbo.emp where user='ronya'\")\n",
    "\n",
    "conn.commit()\n",
    "conn.close()"
   ]
  },
  {
   "cell_type": "code",
   "execution_count": null,
   "metadata": {},
   "outputs": [],
   "source": []
  },
  {
   "cell_type": "code",
   "execution_count": null,
   "metadata": {},
   "outputs": [],
   "source": []
  }
 ],
 "metadata": {
  "kernelspec": {
   "display_name": "Python 3",
   "language": "python",
   "name": "python3"
  },
  "language_info": {
   "codemirror_mode": {
    "name": "ipython",
    "version": 3
   },
   "file_extension": ".py",
   "mimetype": "text/x-python",
   "name": "python",
   "nbconvert_exporter": "python",
   "pygments_lexer": "ipython3",
   "version": "3.8.5"
  }
 },
 "nbformat": 4,
 "nbformat_minor": 4
}
