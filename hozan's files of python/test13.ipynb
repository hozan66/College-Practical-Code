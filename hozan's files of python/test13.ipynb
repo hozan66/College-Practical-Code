{
 "cells": [
  {
   "cell_type": "code",
   "execution_count": 7,
   "metadata": {},
   "outputs": [
    {
     "data": {
      "text/plain": [
       "10"
      ]
     },
     "execution_count": 7,
     "metadata": {},
     "output_type": "execute_result"
    }
   ],
   "source": [
    "#doc string ==> used to explain the function\n",
    "def mult(v1,v2):\n",
    "    \"\"\"This function used to find multiplication of two variables\"\"\"\n",
    "    return (v1*v2)\n",
    "mult(2,5)"
   ]
  },
  {
   "cell_type": "code",
   "execution_count": 8,
   "metadata": {},
   "outputs": [
    {
     "name": "stdout",
     "output_type": "stream",
     "text": [
      "Help on function mult in module __main__:\n",
      "\n",
      "mult(v1, v2)\n",
      "    This function used to find multiplication of two variables\n",
      "\n"
     ]
    }
   ],
   "source": [
    "help(mult)"
   ]
  },
  {
   "cell_type": "code",
   "execution_count": 9,
   "metadata": {},
   "outputs": [
    {
     "name": "stdout",
     "output_type": "stream",
     "text": [
      "Help on built-in function len in module builtins:\n",
      "\n",
      "len(obj, /)\n",
      "    Return the number of items in a container.\n",
      "\n"
     ]
    }
   ],
   "source": [
    "help(len)"
   ]
  },
  {
   "cell_type": "code",
   "execution_count": 2,
   "metadata": {},
   "outputs": [
    {
     "data": {
      "text/plain": [
       "[1, 4, 9, 16]"
      ]
     },
     "execution_count": 2,
     "metadata": {},
     "output_type": "execute_result"
    }
   ],
   "source": [
    "l=[1,2,3,4]\n",
    "l2=[]\n",
    "def f(x):\n",
    "    return (x**2)\n",
    "for i in l:\n",
    "    l2.append(f(i))\n",
    "l2"
   ]
  },
  {
   "cell_type": "code",
   "execution_count": 2,
   "metadata": {},
   "outputs": [],
   "source": [
    "def f(x):\n",
    "    return (x**2)"
   ]
  },
  {
   "cell_type": "code",
   "execution_count": 3,
   "metadata": {},
   "outputs": [
    {
     "name": "stdout",
     "output_type": "stream",
     "text": [
      "1\n",
      "4\n",
      "9\n",
      "16\n"
     ]
    }
   ],
   "source": [
    "l=[1,2,3,4]\n",
    "for i in map(f,l):\n",
    "    print(i)"
   ]
  },
  {
   "cell_type": "code",
   "execution_count": 5,
   "metadata": {},
   "outputs": [
    {
     "data": {
      "text/plain": [
       "<map at 0x1c8b106e8b0>"
      ]
     },
     "execution_count": 5,
     "metadata": {},
     "output_type": "execute_result"
    }
   ],
   "source": [
    "map(f,l)"
   ]
  },
  {
   "cell_type": "code",
   "execution_count": 8,
   "metadata": {},
   "outputs": [],
   "source": [
    "def f(x):\n",
    "    return (x**2)"
   ]
  },
  {
   "cell_type": "code",
   "execution_count": 10,
   "metadata": {
    "scrolled": true
   },
   "outputs": [
    {
     "name": "stdout",
     "output_type": "stream",
     "text": [
      "1\n",
      "4\n",
      "9\n",
      "16\n"
     ]
    }
   ],
   "source": [
    "l=[1,2,3,4]\n",
    "for i in map(f,l):\n",
    "    print(i)"
   ]
  },
  {
   "cell_type": "code",
   "execution_count": 12,
   "metadata": {},
   "outputs": [
    {
     "data": {
      "text/plain": [
       "[1, 4, 9, 16]"
      ]
     },
     "execution_count": 12,
     "metadata": {},
     "output_type": "execute_result"
    }
   ],
   "source": [
    "l3=list(map(f,l))\n",
    "l3"
   ]
  },
  {
   "cell_type": "code",
   "execution_count": 19,
   "metadata": {},
   "outputs": [
    {
     "data": {
      "text/plain": [
       "('Even', 'odd', 'odd', 'odd', 'odd', 'Even')"
      ]
     },
     "execution_count": 19,
     "metadata": {},
     "output_type": "execute_result"
    }
   ],
   "source": [
    "def check(a):\n",
    "    if a%2==0:\n",
    "        return (\"Even\")\n",
    "    else:\n",
    "        return (\"odd\")\n",
    "\n",
    "l=[2,3,5,7,13,8] \n",
    "l2=tuple(map(check,l))\n",
    "l2"
   ]
  },
  {
   "cell_type": "code",
   "execution_count": 21,
   "metadata": {},
   "outputs": [
    {
     "name": "stdout",
     "output_type": "stream",
     "text": [
      "Outside function:  Olaf\n",
      "Inside function:  Olaf\n"
     ]
    }
   ],
   "source": [
    "z=\"Olaf\"\n",
    "def mytest():\n",
    "    print(\"Inside function: \",z)\n",
    "print(\"Outside function: \",z)\n",
    "mytest()"
   ]
  },
  {
   "cell_type": "code",
   "execution_count": 22,
   "metadata": {},
   "outputs": [
    {
     "name": "stdout",
     "output_type": "stream",
     "text": [
      "Inside function before call function:  Olaf\n",
      "Inside function:  Leo\n",
      "Outside function after call function:  Olaf\n"
     ]
    }
   ],
   "source": [
    "z=\"Olaf\"\n",
    "def mytest():\n",
    "    z=\"Leo\"\n",
    "    c(\"Inside function: \",z)\n",
    "print(\"Inside function before call function: \",z)\n",
    "mytest()\n",
    "print(\"Outside function after call function: \",z)"
   ]
  },
  {
   "cell_type": "code",
   "execution_count": 23,
   "metadata": {},
   "outputs": [
    {
     "name": "stdout",
     "output_type": "stream",
     "text": [
      "Inside function before call function:  Olaf\n",
      "Inside function:  Leo\n",
      "Outside function after call function:  Leo\n"
     ]
    }
   ],
   "source": [
    "z=\"Olaf\"\n",
    "def mytest():\n",
    "    global z\n",
    "    z=\"Leo\"\n",
    "    print(\"Inside function: \",z)\n",
    "print(\"Inside function before call function: \",z)\n",
    "mytest()\n",
    "print(\"Outside function after call function: \",z)"
   ]
  },
  {
   "cell_type": "code",
   "execution_count": 27,
   "metadata": {},
   "outputs": [
    {
     "name": "stdout",
     "output_type": "stream",
     "text": [
      "inner:  Alex\n",
      "Out : Leo\n",
      "Global:  olaf\n"
     ]
    }
   ],
   "source": [
    "z=\"olaf\"\n",
    "def mytest_out():\n",
    "    z=\"Leo\"\n",
    "    def mytest_inner():\n",
    "        z=\"Alex\"\n",
    "        print(\"inner: \",z)\n",
    "    mytest_inner()\n",
    "    print(\"Out :\",z)\n",
    "    \n",
    "mytest_out()\n",
    "print(\"Global: \",z)\n"
   ]
  },
  {
   "cell_type": "code",
   "execution_count": 25,
   "metadata": {},
   "outputs": [
    {
     "name": "stdout",
     "output_type": "stream",
     "text": [
      "inner:  Alex\n",
      "Out : Alex\n",
      "Global:  olaf\n"
     ]
    }
   ],
   "source": [
    "z=\"olaf\"\n",
    "def mytest_out():\n",
    "    z=\"Leo\"\n",
    "    def mytest_inner():\n",
    "        nonlocal z\n",
    "        z=\"Alex\"\n",
    "        print(\"inner: \",z)\n",
    "    mytest_inner()\n",
    "    print(\"Out :\",z)\n",
    "    \n",
    "mytest_out()\n",
    "print(\"Global: \",z)"
   ]
  },
  {
   "cell_type": "code",
   "execution_count": 26,
   "metadata": {},
   "outputs": [
    {
     "name": "stdout",
     "output_type": "stream",
     "text": [
      "Inner2:  Alev\n",
      "inner1:  Alev\n",
      "Out : Leo\n",
      "Global:  olaf\n"
     ]
    }
   ],
   "source": [
    "z=\"olaf\"\n",
    "def mytest_out():\n",
    "    z=\"Leo\"\n",
    "    def mytest_inner():\n",
    "        z=\"Alex\"\n",
    "        def mytest_inner2():\n",
    "            nonlocal z\n",
    "            z=\"Alev\"\n",
    "            print(\"Inner2: \",z)\n",
    "        mytest_inner2()\n",
    "        print(\"inner1: \",z)\n",
    "    mytest_inner()\n",
    "    print(\"Out :\",z)\n",
    "    \n",
    "mytest_out()\n",
    "print(\"Global: \",z)"
   ]
  },
  {
   "cell_type": "code",
   "execution_count": 28,
   "metadata": {},
   "outputs": [
    {
     "name": "stdout",
     "output_type": "stream",
     "text": [
      "Inner2:  Alev\n",
      "inner1:  Alex\n",
      "Out : Alex\n",
      "Global:  olaf\n"
     ]
    }
   ],
   "source": [
    "z=\"olaf\"\n",
    "def mytest_out():\n",
    "    z=\"Leo\"\n",
    "    def mytest_inner():\n",
    "        nonlocal z\n",
    "        z=\"Alex\"\n",
    "        def mytest_inner2():\n",
    "            z=\"Alev\"\n",
    "            print(\"Inner2: \",z)\n",
    "        mytest_inner2()\n",
    "        print(\"inner1: \",z)\n",
    "    mytest_inner()\n",
    "    print(\"Out :\",z)\n",
    "    \n",
    "mytest_out()\n",
    "print(\"Global: \",z)"
   ]
  },
  {
   "cell_type": "code",
   "execution_count": 29,
   "metadata": {},
   "outputs": [
    {
     "name": "stdout",
     "output_type": "stream",
     "text": [
      "Inner2:  Alev\n",
      "inner1:  Alev\n",
      "Out : Alev\n",
      "Global:  olaf\n"
     ]
    }
   ],
   "source": [
    "z=\"olaf\"\n",
    "def mytest_out():\n",
    "    z=\"Leo\"\n",
    "    def mytest_inner():\n",
    "        nonlocal z\n",
    "        z=\"Alex\"\n",
    "        def mytest_inner2():\n",
    "            nonlocal z\n",
    "            z=\"Alev\"\n",
    "            print(\"Inner2: \",z)\n",
    "        mytest_inner2()\n",
    "        print(\"inner1: \",z)\n",
    "    mytest_inner()\n",
    "    print(\"Out :\",z)\n",
    "    \n",
    "mytest_out()\n",
    "print(\"Global: \",z)"
   ]
  },
  {
   "cell_type": "code",
   "execution_count": 1,
   "metadata": {},
   "outputs": [],
   "source": [
    "s={-1}"
   ]
  },
  {
   "cell_type": "code",
   "execution_count": 2,
   "metadata": {},
   "outputs": [
    {
     "data": {
      "text/plain": [
       "{-1}"
      ]
     },
     "execution_count": 2,
     "metadata": {},
     "output_type": "execute_result"
    }
   ],
   "source": [
    "s"
   ]
  },
  {
   "cell_type": "code",
   "execution_count": 3,
   "metadata": {},
   "outputs": [],
   "source": [
    "s.add(-3)"
   ]
  },
  {
   "cell_type": "code",
   "execution_count": 4,
   "metadata": {},
   "outputs": [
    {
     "data": {
      "text/plain": [
       "{-3, -1}"
      ]
     },
     "execution_count": 4,
     "metadata": {},
     "output_type": "execute_result"
    }
   ],
   "source": [
    "s"
   ]
  },
  {
   "cell_type": "code",
   "execution_count": 4,
   "metadata": {},
   "outputs": [
    {
     "data": {
      "text/plain": [
       "{1, 4, 9, 16}"
      ]
     },
     "execution_count": 4,
     "metadata": {},
     "output_type": "execute_result"
    }
   ],
   "source": [
    "def f(n):\n",
    "    return(n**2)\n",
    "\n",
    "s={1,2,3,-1,-2,-4}\n",
    "q=set(map(f,s))\n",
    "q\n"
   ]
  },
  {
   "cell_type": "code",
   "execution_count": 9,
   "metadata": {},
   "outputs": [
    {
     "data": {
      "text/plain": [
       "{-1, 1}"
      ]
     },
     "execution_count": 9,
     "metadata": {},
     "output_type": "execute_result"
    }
   ],
   "source": [
    "p=[1,-1]\n",
    "w=set(p)\n",
    "w"
   ]
  },
  {
   "cell_type": "code",
   "execution_count": 10,
   "metadata": {},
   "outputs": [
    {
     "data": {
      "text/plain": [
       "{-1, 1}"
      ]
     },
     "execution_count": 10,
     "metadata": {},
     "output_type": "execute_result"
    }
   ],
   "source": [
    "p={1,-1}\n",
    "w=set(p)\n",
    "w"
   ]
  },
  {
   "cell_type": "code",
   "execution_count": null,
   "metadata": {},
   "outputs": [],
   "source": []
  }
 ],
 "metadata": {
  "kernelspec": {
   "display_name": "Python 3",
   "language": "python",
   "name": "python3"
  },
  "language_info": {
   "codemirror_mode": {
    "name": "ipython",
    "version": 3
   },
   "file_extension": ".py",
   "mimetype": "text/x-python",
   "name": "python",
   "nbconvert_exporter": "python",
   "pygments_lexer": "ipython3",
   "version": "3.8.5"
  }
 },
 "nbformat": 4,
 "nbformat_minor": 4
}
